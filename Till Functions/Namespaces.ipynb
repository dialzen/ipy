{
 "cells": [
  {
   "cell_type": "code",
   "execution_count": 1,
   "metadata": {},
   "outputs": [],
   "source": [
    "b = 1"
   ]
  },
  {
   "cell_type": "code",
   "execution_count": 2,
   "metadata": {},
   "outputs": [],
   "source": [
    "c = 1"
   ]
  },
  {
   "cell_type": "code",
   "execution_count": 3,
   "metadata": {},
   "outputs": [
    {
     "data": {
      "text/plain": [
       "140726850982720"
      ]
     },
     "execution_count": 3,
     "metadata": {},
     "output_type": "execute_result"
    }
   ],
   "source": [
    "id (b)"
   ]
  },
  {
   "cell_type": "code",
   "execution_count": 4,
   "metadata": {},
   "outputs": [
    {
     "data": {
      "text/plain": [
       "140726850982720"
      ]
     },
     "execution_count": 4,
     "metadata": {},
     "output_type": "execute_result"
    }
   ],
   "source": [
    "id(c)"
   ]
  },
  {
   "cell_type": "code",
   "execution_count": 5,
   "metadata": {},
   "outputs": [],
   "source": [
    "b = \"hello\""
   ]
  },
  {
   "cell_type": "code",
   "execution_count": 6,
   "metadata": {},
   "outputs": [],
   "source": [
    "c = \"hello\""
   ]
  },
  {
   "cell_type": "code",
   "execution_count": 7,
   "metadata": {},
   "outputs": [
    {
     "data": {
      "text/plain": [
       "True"
      ]
     },
     "execution_count": 7,
     "metadata": {},
     "output_type": "execute_result"
    }
   ],
   "source": [
    "b == c"
   ]
  },
  {
   "cell_type": "code",
   "execution_count": 8,
   "metadata": {},
   "outputs": [
    {
     "data": {
      "text/plain": [
       "True"
      ]
     },
     "execution_count": 8,
     "metadata": {},
     "output_type": "execute_result"
    }
   ],
   "source": [
    "b is c"
   ]
  },
  {
   "cell_type": "code",
   "execution_count": 11,
   "metadata": {},
   "outputs": [
    {
     "data": {
      "text/plain": [
       "2532817063360"
      ]
     },
     "execution_count": 11,
     "metadata": {},
     "output_type": "execute_result"
    }
   ],
   "source": [
    "id (b)"
   ]
  },
  {
   "cell_type": "code",
   "execution_count": 12,
   "metadata": {},
   "outputs": [
    {
     "data": {
      "text/plain": [
       "2532817063360"
      ]
     },
     "execution_count": 12,
     "metadata": {},
     "output_type": "execute_result"
    }
   ],
   "source": [
    "id (c)"
   ]
  },
  {
   "cell_type": "code",
   "execution_count": 13,
   "metadata": {},
   "outputs": [
    {
     "data": {
      "text/plain": [
       "5"
      ]
     },
     "execution_count": 13,
     "metadata": {},
     "output_type": "execute_result"
    }
   ],
   "source": [
    "5"
   ]
  },
  {
   "cell_type": "code",
   "execution_count": 14,
   "metadata": {},
   "outputs": [
    {
     "data": {
      "text/plain": [
       "'5'"
      ]
     },
     "execution_count": 14,
     "metadata": {},
     "output_type": "execute_result"
    }
   ],
   "source": [
    "repr(5)"
   ]
  },
  {
   "cell_type": "code",
   "execution_count": 16,
   "metadata": {},
   "outputs": [
    {
     "data": {
      "text/plain": [
       "{'__name__': '__main__',\n",
       " '__doc__': 'Automatically created module for IPython interactive environment',\n",
       " '__package__': None,\n",
       " '__loader__': None,\n",
       " '__spec__': None,\n",
       " '__builtin__': <module 'builtins' (built-in)>,\n",
       " '__builtins__': <module 'builtins' (built-in)>,\n",
       " '_ih': ['',\n",
       "  'b = 1',\n",
       "  'c = 1',\n",
       "  'id (b)',\n",
       "  'id(c)',\n",
       "  'b = \"hello\"',\n",
       "  'c = \"hello\"',\n",
       "  'b == c',\n",
       "  'b is c',\n",
       "  'id (b)\\nid (c)',\n",
       "  'id (b)\\nid (c)',\n",
       "  'id (b)',\n",
       "  '\\nid (c)',\n",
       "  '5',\n",
       "  'repr(5)',\n",
       "  'name(5)',\n",
       "  'locals()'],\n",
       " '_oh': {3: 140726850982720,\n",
       "  4: 140726850982720,\n",
       "  7: True,\n",
       "  8: True,\n",
       "  9: 2532817063360,\n",
       "  10: 2532817063360,\n",
       "  11: 2532817063360,\n",
       "  12: 2532817063360,\n",
       "  13: 5,\n",
       "  14: '5'},\n",
       " '_dh': ['C:\\\\Users\\\\Haseeb\\\\Documents\\\\iPyNotebooks'],\n",
       " 'In': ['',\n",
       "  'b = 1',\n",
       "  'c = 1',\n",
       "  'id (b)',\n",
       "  'id(c)',\n",
       "  'b = \"hello\"',\n",
       "  'c = \"hello\"',\n",
       "  'b == c',\n",
       "  'b is c',\n",
       "  'id (b)\\nid (c)',\n",
       "  'id (b)\\nid (c)',\n",
       "  'id (b)',\n",
       "  '\\nid (c)',\n",
       "  '5',\n",
       "  'repr(5)',\n",
       "  'name(5)',\n",
       "  'locals()'],\n",
       " 'Out': {3: 140726850982720,\n",
       "  4: 140726850982720,\n",
       "  7: True,\n",
       "  8: True,\n",
       "  9: 2532817063360,\n",
       "  10: 2532817063360,\n",
       "  11: 2532817063360,\n",
       "  12: 2532817063360,\n",
       "  13: 5,\n",
       "  14: '5'},\n",
       " 'get_ipython': <bound method InteractiveShell.get_ipython of <ipykernel.zmqshell.ZMQInteractiveShell object at 0x0000024DB7611CC0>>,\n",
       " 'exit': <IPython.core.autocall.ZMQExitAutocall at 0x24db7989e80>,\n",
       " 'quit': <IPython.core.autocall.ZMQExitAutocall at 0x24db7989e80>,\n",
       " '_': '5',\n",
       " '__': 5,\n",
       " '___': 2532817063360,\n",
       " '_i': 'name(5)',\n",
       " '_ii': 'repr(5)',\n",
       " '_iii': '5',\n",
       " '_i1': 'b = 1',\n",
       " 'b': 'hello',\n",
       " '_i2': 'c = 1',\n",
       " 'c': 'hello',\n",
       " '_i3': 'id (b)',\n",
       " '_3': 140726850982720,\n",
       " '_i4': 'id(c)',\n",
       " '_4': 140726850982720,\n",
       " '_i5': 'b = \"hello\"',\n",
       " '_i6': 'c = \"hello\"',\n",
       " '_i7': 'b == c',\n",
       " '_7': True,\n",
       " '_i8': 'b is c',\n",
       " '_8': True,\n",
       " '_i9': 'id (b)\\nid (c)',\n",
       " '_9': 2532817063360,\n",
       " '_i10': 'id (b)\\nid (c)',\n",
       " '_10': 2532817063360,\n",
       " '_i11': 'id (b)',\n",
       " '_11': 2532817063360,\n",
       " '_i12': '\\nid (c)',\n",
       " '_12': 2532817063360,\n",
       " '_i13': '5',\n",
       " '_13': 5,\n",
       " '_i14': 'repr(5)',\n",
       " '_14': '5',\n",
       " '_i15': 'name(5)',\n",
       " '_i16': 'locals()'}"
      ]
     },
     "execution_count": 16,
     "metadata": {},
     "output_type": "execute_result"
    }
   ],
   "source": [
    "locals()"
   ]
  },
  {
   "cell_type": "code",
   "execution_count": 17,
   "metadata": {},
   "outputs": [],
   "source": [
    "e = \"How are you?\""
   ]
  },
  {
   "cell_type": "code",
   "execution_count": 18,
   "metadata": {},
   "outputs": [],
   "source": [
    "f = \"How are you?\""
   ]
  },
  {
   "cell_type": "code",
   "execution_count": 19,
   "metadata": {},
   "outputs": [
    {
     "data": {
      "text/plain": [
       "False"
      ]
     },
     "execution_count": 19,
     "metadata": {},
     "output_type": "execute_result"
    }
   ],
   "source": [
    "e is f"
   ]
  },
  {
   "cell_type": "code",
   "execution_count": 20,
   "metadata": {},
   "outputs": [
    {
     "data": {
      "text/plain": [
       "2532817250416"
      ]
     },
     "execution_count": 20,
     "metadata": {},
     "output_type": "execute_result"
    }
   ],
   "source": [
    "id(e)\n",
    "id(f)"
   ]
  },
  {
   "cell_type": "code",
   "execution_count": 21,
   "metadata": {},
   "outputs": [
    {
     "data": {
      "text/plain": [
       "'How are you?'"
      ]
     },
     "execution_count": 21,
     "metadata": {},
     "output_type": "execute_result"
    }
   ],
   "source": [
    "e\n",
    "f"
   ]
  },
  {
   "cell_type": "code",
   "execution_count": 22,
   "metadata": {},
   "outputs": [
    {
     "data": {
      "text/plain": [
       "6"
      ]
     },
     "execution_count": 22,
     "metadata": {},
     "output_type": "execute_result"
    }
   ],
   "source": [
    "5\n",
    "6"
   ]
  },
  {
   "cell_type": "code",
   "execution_count": 23,
   "metadata": {},
   "outputs": [
    {
     "data": {
      "text/plain": [
       "True"
      ]
     },
     "execution_count": 23,
     "metadata": {},
     "output_type": "execute_result"
    }
   ],
   "source": [
    "\"how\" is \"how\""
   ]
  },
  {
   "cell_type": "code",
   "execution_count": 24,
   "metadata": {},
   "outputs": [
    {
     "data": {
      "text/plain": [
       "True"
      ]
     },
     "execution_count": 24,
     "metadata": {},
     "output_type": "execute_result"
    }
   ],
   "source": [
    "5 is 5"
   ]
  },
  {
   "cell_type": "code",
   "execution_count": 34,
   "metadata": {},
   "outputs": [],
   "source": [
    "b = \"how \" ; c = \"how \""
   ]
  },
  {
   "cell_type": "code",
   "execution_count": 35,
   "metadata": {},
   "outputs": [
    {
     "data": {
      "text/plain": [
       "False"
      ]
     },
     "execution_count": 35,
     "metadata": {},
     "output_type": "execute_result"
    }
   ],
   "source": [
    "b is c"
   ]
  },
  {
   "cell_type": "code",
   "execution_count": 36,
   "metadata": {},
   "outputs": [],
   "source": [
    "def hi():\n",
    "    print(\"Hello\")"
   ]
  },
  {
   "cell_type": "code",
   "execution_count": 37,
   "metadata": {},
   "outputs": [
    {
     "data": {
      "text/plain": [
       "<function __main__.hi()>"
      ]
     },
     "execution_count": 37,
     "metadata": {},
     "output_type": "execute_result"
    }
   ],
   "source": [
    "hi"
   ]
  },
  {
   "cell_type": "code",
   "execution_count": 38,
   "metadata": {},
   "outputs": [
    {
     "name": "stdout",
     "output_type": "stream",
     "text": [
      "Hello\n"
     ]
    }
   ],
   "source": [
    "hi()"
   ]
  },
  {
   "cell_type": "code",
   "execution_count": 47,
   "metadata": {},
   "outputs": [],
   "source": [
    "b = hi"
   ]
  },
  {
   "cell_type": "code",
   "execution_count": 48,
   "metadata": {},
   "outputs": [
    {
     "name": "stdout",
     "output_type": "stream",
     "text": [
      "<function hi at 0x0000024DB7B3C488>\n"
     ]
    }
   ],
   "source": [
    "print(b)"
   ]
  },
  {
   "cell_type": "code",
   "execution_count": 49,
   "metadata": {},
   "outputs": [
    {
     "data": {
      "text/plain": [
       "2532817749128"
      ]
     },
     "execution_count": 49,
     "metadata": {},
     "output_type": "execute_result"
    }
   ],
   "source": [
    "id(b)"
   ]
  },
  {
   "cell_type": "code",
   "execution_count": 50,
   "metadata": {},
   "outputs": [
    {
     "name": "stdout",
     "output_type": "stream",
     "text": [
      "Hello\n"
     ]
    }
   ],
   "source": [
    "b()"
   ]
  },
  {
   "cell_type": "code",
   "execution_count": 114,
   "metadata": {},
   "outputs": [
    {
     "name": "stdout",
     "output_type": "stream",
     "text": [
      "30\n"
     ]
    }
   ],
   "source": [
    "def outer():\n",
    "    o = 20\n",
    "    print(\"Outer executed.\")\n",
    "    def inner():\n",
    "        print(\"Inner executed.\")\n",
    "        i = 10\n",
    "        print(i)\n",
    "        nonlocal o\n",
    "        o += 1\n",
    "        print(o)\n",
    "    inner()\n",
    "    global g\n",
    "    g += 1\n",
    "    \n",
    "\n",
    "g = 30\n",
    "print(g)"
   ]
  },
  {
   "cell_type": "code",
   "execution_count": 118,
   "metadata": {},
   "outputs": [
    {
     "name": "stdout",
     "output_type": "stream",
     "text": [
      "Outer executed.\n",
      "Inner executed.\n",
      "10\n",
      "21\n",
      "34\n"
     ]
    }
   ],
   "source": [
    "outer()\n",
    "print(g)"
   ]
  },
  {
   "cell_type": "code",
   "execution_count": 72,
   "metadata": {},
   "outputs": [
    {
     "data": {
      "text/plain": [
       "1"
      ]
     },
     "execution_count": 72,
     "metadata": {},
     "output_type": "execute_result"
    }
   ],
   "source": [
    "1"
   ]
  },
  {
   "cell_type": "code",
   "execution_count": null,
   "metadata": {},
   "outputs": [],
   "source": []
  }
 ],
 "metadata": {
  "kernelspec": {
   "display_name": "Python 3",
   "language": "python",
   "name": "python3"
  },
  "language_info": {
   "codemirror_mode": {
    "name": "ipython",
    "version": 3
   },
   "file_extension": ".py",
   "mimetype": "text/x-python",
   "name": "python",
   "nbconvert_exporter": "python",
   "pygments_lexer": "ipython3",
   "version": "3.7.3"
  }
 },
 "nbformat": 4,
 "nbformat_minor": 2
}
