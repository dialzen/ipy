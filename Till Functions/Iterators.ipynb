{
 "cells": [
  {
   "cell_type": "code",
   "execution_count": null,
   "metadata": {},
   "outputs": [],
   "source": [
    "class Range:\n",
    "    def __init__(self, low, high, step = 1):\n",
    "        self.current = low \n",
    "        self.high = high\n",
    "        self.step = step\n",
    "        \n",
    "    def __iter__(s):\n",
    "        return s\n",
    "    \n",
    "    def __next__(s):\n",
    "        if s.step > 0:\n",
    "            if s.current < s.high:\n",
    "                num = s.current\n",
    "                s.current += s.step\n",
    "                return num\n",
    "            else: raise StopIteration\n",
    "        elif s.step == 0:\n",
    "            print(\"You entered zero as step. Very funny. \")\n",
    "            raise StopIteration\n",
    "        else:\n",
    "            if s.current > s.high:\n",
    "                num = s.current\n",
    "                s.current += s.step\n",
    "                return num\n",
    "            else: raise StopIteration\n",
    "\n",
    "def for_loop(iterable, func=print):\n",
    "    iterator = iter(iterable)\n",
    "    while True:\n",
    "        try:\n",
    "            i = next(iterator)\n",
    "        except StopIteration:\n",
    "            break\n",
    "        func(i)"
   ]
  },
  {
   "cell_type": "code",
   "execution_count": null,
   "metadata": {},
   "outputs": [],
   "source": []
  },
  {
   "cell_type": "code",
   "execution_count": null,
   "metadata": {},
   "outputs": [],
   "source": []
  }
 ],
 "metadata": {
  "kernelspec": {
   "display_name": "Python 3",
   "language": "python",
   "name": "python3"
  },
  "language_info": {
   "codemirror_mode": {
    "name": "ipython",
    "version": 3
   },
   "file_extension": ".py",
   "mimetype": "text/x-python",
   "name": "python",
   "nbconvert_exporter": "python",
   "pygments_lexer": "ipython3",
   "version": "3.7.3"
  }
 },
 "nbformat": 4,
 "nbformat_minor": 2
}
