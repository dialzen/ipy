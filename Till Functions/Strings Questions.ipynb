{
 "cells": [
  {
   "cell_type": "code",
   "execution_count": 1,
   "metadata": {},
   "outputs": [],
   "source": [
    "# for n in range(20):  \n",
    "#         mod = n % 10  \n",
    "#         print(n, '%', 10, 'is', mod)"
   ]
  },
  {
   "cell_type": "code",
   "execution_count": 78,
   "metadata": {},
   "outputs": [
    {
     "name": "stdout",
     "output_type": "stream",
     "text": [
      "{97: 'A', 101: 'E', 105: 'I', 111: 'O', 117: 'U'}\n"
     ]
    }
   ],
   "source": [
    "map = \"to_translate\".maketrans({\"a\": \"A\", \"e\": \"E\", \"i\": \"I\", \"o\": \"O\", \"u\": \"U\"})\n",
    "print(map)"
   ]
  },
  {
   "cell_type": "code",
   "execution_count": 3,
   "metadata": {},
   "outputs": [],
   "source": [
    "map2 = \"to_translate\".maketrans(\"aeiou\",\"12345\")"
   ]
  },
  {
   "cell_type": "code",
   "execution_count": 4,
   "metadata": {},
   "outputs": [],
   "source": [
    "map3 = \"to_translate\".maketrans(\"aeiou\",\"12345\",\"AEIOU\")"
   ]
  },
  {
   "cell_type": "code",
   "execution_count": 5,
   "metadata": {},
   "outputs": [
    {
     "name": "stdout",
     "output_type": "stream",
     "text": [
      "Help on built-in function maketrans:\n",
      "\n",
      "maketrans(x, y=None, z=None, /)\n",
      "    Return a translation table usable for str.translate().\n",
      "    \n",
      "    If there is only one argument, it must be a dictionary mapping Unicode\n",
      "    ordinals (integers) or characters to Unicode ordinals, strings or None.\n",
      "    Character keys will be then converted to ordinals.\n",
      "    If there are two arguments, they must be strings of equal length, and\n",
      "    in the resulting dictionary, each character in x will be mapped to the\n",
      "    character at the same position in y. If there is a third argument, it\n",
      "    must be a string, whose characters will be mapped to None in the result.\n",
      "\n"
     ]
    }
   ],
   "source": [
    "help(str.maketrans)"
   ]
  },
  {
   "cell_type": "code",
   "execution_count": 6,
   "metadata": {},
   "outputs": [
    {
     "data": {
      "text/plain": [
       "{97: 'A', 101: 'E', 105: 'I', 111: 'O', 117: 'U'}"
      ]
     },
     "execution_count": 6,
     "metadata": {},
     "output_type": "execute_result"
    }
   ],
   "source": [
    "map"
   ]
  },
  {
   "cell_type": "code",
   "execution_count": 7,
   "metadata": {},
   "outputs": [
    {
     "data": {
      "text/plain": [
       "{97: 49, 101: 50, 105: 51, 111: 52, 117: 53}"
      ]
     },
     "execution_count": 7,
     "metadata": {},
     "output_type": "execute_result"
    }
   ],
   "source": [
    "map2\n"
   ]
  },
  {
   "cell_type": "markdown",
   "metadata": {},
   "source": [
    "map3"
   ]
  },
  {
   "cell_type": "code",
   "execution_count": 8,
   "metadata": {},
   "outputs": [
    {
     "data": {
      "text/plain": [
       "{97: 49,\n",
       " 101: 50,\n",
       " 105: 51,\n",
       " 111: 52,\n",
       " 117: 53,\n",
       " 65: None,\n",
       " 69: None,\n",
       " 73: None,\n",
       " 79: None,\n",
       " 85: None}"
      ]
     },
     "execution_count": 8,
     "metadata": {},
     "output_type": "execute_result"
    }
   ],
   "source": [
    "map3"
   ]
  },
  {
   "cell_type": "code",
   "execution_count": 9,
   "metadata": {},
   "outputs": [
    {
     "data": {
      "text/plain": [
       "'I Am On my wAy'"
      ]
     },
     "execution_count": 9,
     "metadata": {},
     "output_type": "execute_result"
    }
   ],
   "source": [
    "\"I am on my way\".translate(map)"
   ]
  },
  {
   "cell_type": "code",
   "execution_count": 10,
   "metadata": {},
   "outputs": [
    {
     "data": {
      "text/plain": [
       "'I 1m 4n my w1y'"
      ]
     },
     "execution_count": 10,
     "metadata": {},
     "output_type": "execute_result"
    }
   ],
   "source": [
    "\"I am on my way\".translate(map2)"
   ]
  },
  {
   "cell_type": "code",
   "execution_count": 11,
   "metadata": {},
   "outputs": [
    {
     "data": {
      "text/plain": [
       "' 1m 4n my w1y'"
      ]
     },
     "execution_count": 11,
     "metadata": {},
     "output_type": "execute_result"
    }
   ],
   "source": [
    "\"I am on my way\".translate(map3)"
   ]
  },
  {
   "cell_type": "code",
   "execution_count": 12,
   "metadata": {},
   "outputs": [],
   "source": [
    "map1 = str.maketrans(\"aeiou\",\"12345\")"
   ]
  },
  {
   "cell_type": "code",
   "execution_count": 13,
   "metadata": {},
   "outputs": [
    {
     "data": {
      "text/plain": [
       "{97: 49, 101: 50, 105: 51, 111: 52, 117: 53}"
      ]
     },
     "execution_count": 13,
     "metadata": {},
     "output_type": "execute_result"
    }
   ],
   "source": [
    "map1"
   ]
  },
  {
   "cell_type": "code",
   "execution_count": 14,
   "metadata": {},
   "outputs": [],
   "source": [
    "b = (\"How are you\\n\"\n",
    "\"Brother\\n\"\n",
    "\"I will need you\\n\")"
   ]
  },
  {
   "cell_type": "code",
   "execution_count": 15,
   "metadata": {},
   "outputs": [
    {
     "data": {
      "text/plain": [
       "['How are you\\n', 'Brother\\n', 'I will need you\\n']"
      ]
     },
     "execution_count": 15,
     "metadata": {},
     "output_type": "execute_result"
    }
   ],
   "source": [
    "b.splitlines(4)"
   ]
  },
  {
   "cell_type": "code",
   "execution_count": 16,
   "metadata": {},
   "outputs": [
    {
     "name": "stdout",
     "output_type": "stream",
     "text": [
      "Help on method_descriptor:\n",
      "\n",
      "splitlines(self, /, keepends=False)\n",
      "    Return a list of the lines in the string, breaking at line boundaries.\n",
      "    \n",
      "    Line breaks are not included in the resulting list unless keepends is given and\n",
      "    true.\n",
      "\n"
     ]
    }
   ],
   "source": [
    "help(str.splitlines)"
   ]
  },
  {
   "cell_type": "code",
   "execution_count": 17,
   "metadata": {},
   "outputs": [
    {
     "data": {
      "text/plain": [
       "['How are you', 'Brother', 'I will need you', '']"
      ]
     },
     "execution_count": 17,
     "metadata": {},
     "output_type": "execute_result"
    }
   ],
   "source": [
    "b.split(\"\\n\")"
   ]
  },
  {
   "cell_type": "code",
   "execution_count": 18,
   "metadata": {},
   "outputs": [
    {
     "data": {
      "text/plain": [
       "['How are you', 'Brother', 'I will need you', '']"
      ]
     },
     "execution_count": 18,
     "metadata": {},
     "output_type": "execute_result"
    }
   ],
   "source": [
    "b.split(\"\\n\",3)"
   ]
  },
  {
   "cell_type": "code",
   "execution_count": 19,
   "metadata": {},
   "outputs": [
    {
     "data": {
      "text/plain": [
       "['How are you', 'Brother\\nI will need you\\n']"
      ]
     },
     "execution_count": 19,
     "metadata": {},
     "output_type": "execute_result"
    }
   ],
   "source": [
    "b.split(\"\\n\",1)"
   ]
  },
  {
   "cell_type": "code",
   "execution_count": 20,
   "metadata": {},
   "outputs": [
    {
     "name": "stdout",
     "output_type": "stream",
     "text": [
      "Help on method_descriptor:\n",
      "\n",
      "partition(self, sep, /)\n",
      "    Partition the string into three parts using the given separator.\n",
      "    \n",
      "    This will search for the separator in the string.  If the separator is found,\n",
      "    returns a 3-tuple containing the part before the separator, the separator\n",
      "    itself, and the part after it.\n",
      "    \n",
      "    If the separator is not found, returns a 3-tuple containing the original string\n",
      "    and two empty strings.\n",
      "\n"
     ]
    }
   ],
   "source": [
    "help(str.partition)"
   ]
  },
  {
   "cell_type": "code",
   "execution_count": 21,
   "metadata": {},
   "outputs": [
    {
     "data": {
      "text/plain": [
       "('A', 'B', 'CDE')"
      ]
     },
     "execution_count": 21,
     "metadata": {},
     "output_type": "execute_result"
    }
   ],
   "source": [
    "\"ABCDE\".partition(\"B\")"
   ]
  },
  {
   "cell_type": "code",
   "execution_count": 22,
   "metadata": {},
   "outputs": [
    {
     "data": {
      "text/plain": [
       "('ABCDE', '', '')"
      ]
     },
     "execution_count": 22,
     "metadata": {},
     "output_type": "execute_result"
    }
   ],
   "source": [
    "\"ABCDE\".partition(\"ABCB\")"
   ]
  },
  {
   "cell_type": "code",
   "execution_count": 23,
   "metadata": {},
   "outputs": [
    {
     "data": {
      "text/plain": [
       "('', 'ABCDE', '')"
      ]
     },
     "execution_count": 23,
     "metadata": {},
     "output_type": "execute_result"
    }
   ],
   "source": [
    "\"ABCDE\".partition(\"ABCDE\")"
   ]
  },
  {
   "cell_type": "code",
   "execution_count": 24,
   "metadata": {},
   "outputs": [
    {
     "data": {
      "text/plain": [
       "('ABCDE', '', '')"
      ]
     },
     "execution_count": 24,
     "metadata": {},
     "output_type": "execute_result"
    }
   ],
   "source": [
    "\"ABCDE\".partition(\"XXXXX\")"
   ]
  },
  {
   "cell_type": "code",
   "execution_count": 25,
   "metadata": {},
   "outputs": [
    {
     "data": {
      "text/plain": [
       "'ABCDE'"
      ]
     },
     "execution_count": 25,
     "metadata": {},
     "output_type": "execute_result"
    }
   ],
   "source": [
    "\"ABCDE\".replace(\"B\",\"X\",0)"
   ]
  },
  {
   "cell_type": "code",
   "execution_count": 26,
   "metadata": {},
   "outputs": [
    {
     "data": {
      "text/plain": [
       "'AXCDE'"
      ]
     },
     "execution_count": 26,
     "metadata": {},
     "output_type": "execute_result"
    }
   ],
   "source": [
    "\"ABCDE\".replace(\"B\",\"X\",10)"
   ]
  },
  {
   "cell_type": "code",
   "execution_count": 27,
   "metadata": {},
   "outputs": [
    {
     "data": {
      "text/plain": [
       "'AXCDE'"
      ]
     },
     "execution_count": 27,
     "metadata": {},
     "output_type": "execute_result"
    }
   ],
   "source": [
    "\"ABCDE\".replace(\"B\",\"X\",-1)"
   ]
  },
  {
   "cell_type": "code",
   "execution_count": 28,
   "metadata": {},
   "outputs": [
    {
     "data": {
      "text/plain": [
       "'ABBBBBBBBBBBBBBBBBBBCDE'"
      ]
     },
     "execution_count": 28,
     "metadata": {},
     "output_type": "execute_result"
    }
   ],
   "source": [
    "\"ABBBBBBBBBBBBBBBBBBBCDE\".replace(\"B\",\"X\",0)"
   ]
  },
  {
   "cell_type": "code",
   "execution_count": 29,
   "metadata": {},
   "outputs": [
    {
     "data": {
      "text/plain": [
       "'AXXXXXXXXXXXXXXXXXXXCDE'"
      ]
     },
     "execution_count": 29,
     "metadata": {},
     "output_type": "execute_result"
    }
   ],
   "source": [
    "\"ABBBBBBBBBBBBBBBBBBBCDE\".replace(\"B\",\"X\",-1)"
   ]
  },
  {
   "cell_type": "code",
   "execution_count": 30,
   "metadata": {},
   "outputs": [
    {
     "data": {
      "text/plain": [
       "['ABBBBBBBBBBBBBBBBBBBCDE']"
      ]
     },
     "execution_count": 30,
     "metadata": {},
     "output_type": "execute_result"
    }
   ],
   "source": [
    "\"ABBBBBBBBBBBBBBBBBBBCDE\".split(\"B\",0)"
   ]
  },
  {
   "cell_type": "code",
   "execution_count": 31,
   "metadata": {},
   "outputs": [
    {
     "data": {
      "text/plain": [
       "['A',\n",
       " '',\n",
       " '',\n",
       " '',\n",
       " '',\n",
       " '',\n",
       " '',\n",
       " '',\n",
       " '',\n",
       " '',\n",
       " '',\n",
       " '',\n",
       " '',\n",
       " '',\n",
       " '',\n",
       " '',\n",
       " '',\n",
       " '',\n",
       " '',\n",
       " 'CDE']"
      ]
     },
     "execution_count": 31,
     "metadata": {},
     "output_type": "execute_result"
    }
   ],
   "source": [
    "\"ABBBBBBBBBBBBBBBBBBBCDE\".split(\"B\",-1)"
   ]
  },
  {
   "cell_type": "code",
   "execution_count": 32,
   "metadata": {},
   "outputs": [
    {
     "data": {
      "text/plain": [
       "['A', '', '', '', '', 'BBBBBBBBBBBBBBCDE']"
      ]
     },
     "execution_count": 32,
     "metadata": {},
     "output_type": "execute_result"
    }
   ],
   "source": [
    "\"ABBBBBBBBBBBBBBBBBBBCDE\".split(\"B\",5)"
   ]
  },
  {
   "cell_type": "code",
   "execution_count": 33,
   "metadata": {},
   "outputs": [
    {
     "data": {
      "text/plain": [
       "['A',\n",
       " '',\n",
       " '',\n",
       " '',\n",
       " '',\n",
       " '',\n",
       " '',\n",
       " '',\n",
       " '',\n",
       " '',\n",
       " '',\n",
       " '',\n",
       " '',\n",
       " '',\n",
       " '',\n",
       " '',\n",
       " '',\n",
       " '',\n",
       " '',\n",
       " 'CDE']"
      ]
     },
     "execution_count": 33,
     "metadata": {},
     "output_type": "execute_result"
    }
   ],
   "source": [
    "\"ABBBBBBBBBBBBBBBBBBBCDE\".split(\"B\",-2)"
   ]
  },
  {
   "cell_type": "code",
   "execution_count": 34,
   "metadata": {},
   "outputs": [
    {
     "data": {
      "text/plain": [
       "['A',\n",
       " '',\n",
       " '',\n",
       " '',\n",
       " '',\n",
       " '',\n",
       " '',\n",
       " '',\n",
       " '',\n",
       " '',\n",
       " '',\n",
       " '',\n",
       " '',\n",
       " '',\n",
       " '',\n",
       " '',\n",
       " '',\n",
       " '',\n",
       " '',\n",
       " 'CDE']"
      ]
     },
     "execution_count": 34,
     "metadata": {},
     "output_type": "execute_result"
    }
   ],
   "source": [
    "\"ABBBBBBBBBBBBBBBBBBBCDE\".split(\"B\",-10)"
   ]
  },
  {
   "cell_type": "code",
   "execution_count": 35,
   "metadata": {},
   "outputs": [
    {
     "data": {
      "text/plain": [
       "'Hello65026240World'"
      ]
     },
     "execution_count": 35,
     "metadata": {},
     "output_type": "execute_result"
    }
   ],
   "source": [
    "\"Hello65026240world\".title()"
   ]
  },
  {
   "cell_type": "code",
   "execution_count": 36,
   "metadata": {},
   "outputs": [
    {
     "data": {
      "text/plain": [
       "'Hello6!@#$$%%%%^&********()-=5026240World'"
      ]
     },
     "execution_count": 36,
     "metadata": {},
     "output_type": "execute_result"
    }
   ],
   "source": [
    "\"HELLO6!@#$$%%%%^&********()-=5026240world\".title()"
   ]
  },
  {
   "cell_type": "code",
   "execution_count": 37,
   "metadata": {},
   "outputs": [
    {
     "data": {
      "text/plain": [
       "'Hello650             26240world'"
      ]
     },
     "execution_count": 37,
     "metadata": {},
     "output_type": "execute_result"
    }
   ],
   "source": [
    "\"                Hello650             26240world                       \".strip()"
   ]
  },
  {
   "cell_type": "code",
   "execution_count": 38,
   "metadata": {},
   "outputs": [
    {
     "data": {
      "text/plain": [
       "'ello65026240world'"
      ]
     },
     "execution_count": 38,
     "metadata": {},
     "output_type": "execute_result"
    }
   ],
   "source": [
    "\"Hello65026240world\".strip(\"H\")"
   ]
  },
  {
   "cell_type": "code",
   "execution_count": 39,
   "metadata": {},
   "outputs": [
    {
     "data": {
      "text/plain": [
       "'llllllllHello65026240world'"
      ]
     },
     "execution_count": 39,
     "metadata": {},
     "output_type": "execute_result"
    }
   ],
   "source": [
    "\"llllllllHello65026240worldlllllllllllll\".rstrip(\"l\")"
   ]
  },
  {
   "cell_type": "code",
   "execution_count": 40,
   "metadata": {},
   "outputs": [
    {
     "data": {
      "text/plain": [
       "0"
      ]
     },
     "execution_count": 40,
     "metadata": {},
     "output_type": "execute_result"
    }
   ],
   "source": [
    "\"llllllllHello65026240worldlllllllllllll\".find(\"l\")"
   ]
  },
  {
   "cell_type": "code",
   "execution_count": 41,
   "metadata": {},
   "outputs": [
    {
     "data": {
      "text/plain": [
       "-1"
      ]
     },
     "execution_count": 41,
     "metadata": {},
     "output_type": "execute_result"
    }
   ],
   "source": [
    "\"llllllllHello65026240worldlllllllllllll\".find(\"f\")"
   ]
  },
  {
   "cell_type": "code",
   "execution_count": 42,
   "metadata": {},
   "outputs": [
    {
     "data": {
      "text/plain": [
       "39"
      ]
     },
     "execution_count": 42,
     "metadata": {},
     "output_type": "execute_result"
    }
   ],
   "source": [
    "len(\"llllllllHello65026240worldlllllllllllll\")"
   ]
  },
  {
   "cell_type": "code",
   "execution_count": 43,
   "metadata": {},
   "outputs": [],
   "source": [
    "s = \"Hello\""
   ]
  },
  {
   "cell_type": "raw",
   "metadata": {},
   "source": []
  },
  {
   "cell_type": "code",
   "execution_count": 44,
   "metadata": {},
   "outputs": [
    {
     "name": "stdout",
     "output_type": "stream",
     "text": [
      "e\n"
     ]
    }
   ],
   "source": [
    "print(s[1])\n"
   ]
  },
  {
   "cell_type": "code",
   "execution_count": 45,
   "metadata": {},
   "outputs": [],
   "source": [
    "s = '1' + s[1:] "
   ]
  },
  {
   "cell_type": "code",
   "execution_count": 46,
   "metadata": {},
   "outputs": [
    {
     "name": "stdout",
     "output_type": "stream",
     "text": [
      "1ello\n"
     ]
    }
   ],
   "source": [
    "print(s)"
   ]
  },
  {
   "cell_type": "code",
   "execution_count": 47,
   "metadata": {},
   "outputs": [
    {
     "name": "stdout",
     "output_type": "stream",
     "text": [
      "\u0004?\n"
     ]
    }
   ],
   "source": [
    "print('\\4\\x3f')"
   ]
  },
  {
   "cell_type": "code",
   "execution_count": 48,
   "metadata": {},
   "outputs": [
    {
     "name": "stdout",
     "output_type": "stream",
     "text": [
      "The Zen of Python, by Tim Peters\n",
      "\n",
      "Beautiful is better than ugly.\n",
      "Explicit is better than implicit.\n",
      "Simple is better than complex.\n",
      "Complex is better than complicated.\n",
      "Flat is better than nested.\n",
      "Sparse is better than dense.\n",
      "Readability counts.\n",
      "Special cases aren't special enough to break the rules.\n",
      "Although practicality beats purity.\n",
      "Errors should never pass silently.\n",
      "Unless explicitly silenced.\n",
      "In the face of ambiguity, refuse the temptation to guess.\n",
      "There should be one-- and preferably only one --obvious way to do it.\n",
      "Although that way may not be obvious at first unless you're Dutch.\n",
      "Now is better than never.\n",
      "Although never is often better than *right* now.\n",
      "If the implementation is hard to explain, it's a bad idea.\n",
      "If the implementation is easy to explain, it may be a good idea.\n",
      "Namespaces are one honking great idea -- let's do more of those!\n"
     ]
    }
   ],
   "source": [
    "import this\n"
   ]
  },
  {
   "cell_type": "code",
   "execution_count": 49,
   "metadata": {},
   "outputs": [
    {
     "data": {
      "text/plain": [
       "'abcdefghijklmnopqrstuvwxyzABCDEFGHIJKLMNOPQRSTUVWXYZ'"
      ]
     },
     "execution_count": 49,
     "metadata": {},
     "output_type": "execute_result"
    }
   ],
   "source": [
    "import string\n",
    "string.ascii_lowercase + string.ascii_uppercase"
   ]
  },
  {
   "cell_type": "code",
   "execution_count": 50,
   "metadata": {},
   "outputs": [
    {
     "name": "stdout",
     "output_type": "stream",
     "text": [
      "Eric Idle is 74. Surprise!\n"
     ]
    }
   ],
   "source": [
    "class Comedian:\n",
    "    def __init__(self, first_name, last_name, age):\n",
    "        self.first_name = first_name\n",
    "        self.last_name = last_name\n",
    "        self.age = age\n",
    "\n",
    "#     def __str__(self):\n",
    "#         return f\"{self.first_name} {self.last_name} is {self.age}.\"\n",
    "\n",
    "    def __repr__(self):\n",
    "        return f\"{self.first_name} {self.last_name} is {self.age}. Surprise!\"\n",
    "\n",
    "    \n",
    "\n",
    "new_comedian = Comedian(\"Eric\", \"Idle\", \"74\")\n",
    "f\"{new_comedian}\"\n",
    "print(new_comedian)"
   ]
  },
  {
   "cell_type": "code",
   "execution_count": 51,
   "metadata": {},
   "outputs": [
    {
     "data": {
      "text/plain": [
       "Eric Idle is 74. Surprise!"
      ]
     },
     "execution_count": 51,
     "metadata": {},
     "output_type": "execute_result"
    }
   ],
   "source": [
    "new_comedian"
   ]
  },
  {
   "cell_type": "code",
   "execution_count": 52,
   "metadata": {},
   "outputs": [
    {
     "name": "stdout",
     "output_type": "stream",
     "text": [
      "Help on built-in function print in module builtins:\n",
      "\n",
      "print(...)\n",
      "    print(value, ..., sep=' ', end='\\n', file=sys.stdout, flush=False)\n",
      "    \n",
      "    Prints the values to a stream, or to sys.stdout by default.\n",
      "    Optional keyword arguments:\n",
      "    file:  a file-like object (stream); defaults to the current sys.stdout.\n",
      "    sep:   string inserted between values, default a space.\n",
      "    end:   string appended after the last value, default a newline.\n",
      "    flush: whether to forcibly flush the stream.\n",
      "\n"
     ]
    }
   ],
   "source": [
    "help(print)"
   ]
  },
  {
   "cell_type": "code",
   "execution_count": 53,
   "metadata": {},
   "outputs": [
    {
     "name": "stdout",
     "output_type": "stream",
     "text": [
      "Format String Syntax\n",
      "********************\n",
      "\n",
      "The \"str.format()\" method and the \"Formatter\" class share the same\n",
      "syntax for format strings (although in the case of \"Formatter\",\n",
      "subclasses can define their own format string syntax).  The syntax is\n",
      "related to that of formatted string literals, but there are\n",
      "differences.\n",
      "\n",
      "Format strings contain “replacement fields” surrounded by curly braces\n",
      "\"{}\". Anything that is not contained in braces is considered literal\n",
      "text, which is copied unchanged to the output.  If you need to include\n",
      "a brace character in the literal text, it can be escaped by doubling:\n",
      "\"{{\" and \"}}\".\n",
      "\n",
      "The grammar for a replacement field is as follows:\n",
      "\n",
      "      replacement_field ::= \"{\" [field_name] [\"!\" conversion] [\":\" format_spec] \"}\"\n",
      "      field_name        ::= arg_name (\".\" attribute_name | \"[\" element_index \"]\")*\n",
      "      arg_name          ::= [identifier | digit+]\n",
      "      attribute_name    ::= identifier\n",
      "      element_index     ::= digit+ | index_string\n",
      "      index_string      ::= <any source character except \"]\"> +\n",
      "      conversion        ::= \"r\" | \"s\" | \"a\"\n",
      "      format_spec       ::= <described in the next section>\n",
      "\n",
      "In less formal terms, the replacement field can start with a\n",
      "*field_name* that specifies the object whose value is to be formatted\n",
      "and inserted into the output instead of the replacement field. The\n",
      "*field_name* is optionally followed by a  *conversion* field, which is\n",
      "preceded by an exclamation point \"'!'\", and a *format_spec*, which is\n",
      "preceded by a colon \"':'\".  These specify a non-default format for the\n",
      "replacement value.\n",
      "\n",
      "See also the Format Specification Mini-Language section.\n",
      "\n",
      "The *field_name* itself begins with an *arg_name* that is either a\n",
      "number or a keyword.  If it’s a number, it refers to a positional\n",
      "argument, and if it’s a keyword, it refers to a named keyword\n",
      "argument.  If the numerical arg_names in a format string are 0, 1, 2,\n",
      "… in sequence, they can all be omitted (not just some) and the numbers\n",
      "0, 1, 2, … will be automatically inserted in that order. Because\n",
      "*arg_name* is not quote-delimited, it is not possible to specify\n",
      "arbitrary dictionary keys (e.g., the strings \"'10'\" or \"':-]'\") within\n",
      "a format string. The *arg_name* can be followed by any number of index\n",
      "or attribute expressions. An expression of the form \"'.name'\" selects\n",
      "the named attribute using \"getattr()\", while an expression of the form\n",
      "\"'[index]'\" does an index lookup using \"__getitem__()\".\n",
      "\n",
      "Changed in version 3.1: The positional argument specifiers can be\n",
      "omitted for \"str.format()\", so \"'{} {}'.format(a, b)\" is equivalent to\n",
      "\"'{0} {1}'.format(a, b)\".\n",
      "\n",
      "Changed in version 3.4: The positional argument specifiers can be\n",
      "omitted for \"Formatter\".\n",
      "\n",
      "Some simple format string examples:\n",
      "\n",
      "   \"First, thou shalt count to {0}\"  # References first positional argument\n",
      "   \"Bring me a {}\"                   # Implicitly references the first positional argument\n",
      "   \"From {} to {}\"                   # Same as \"From {0} to {1}\"\n",
      "   \"My quest is {name}\"              # References keyword argument 'name'\n",
      "   \"Weight in tons {0.weight}\"       # 'weight' attribute of first positional arg\n",
      "   \"Units destroyed: {players[0]}\"   # First element of keyword argument 'players'.\n",
      "\n",
      "The *conversion* field causes a type coercion before formatting.\n",
      "Normally, the job of formatting a value is done by the \"__format__()\"\n",
      "method of the value itself.  However, in some cases it is desirable to\n",
      "force a type to be formatted as a string, overriding its own\n",
      "definition of formatting.  By converting the value to a string before\n",
      "calling \"__format__()\", the normal formatting logic is bypassed.\n",
      "\n",
      "Three conversion flags are currently supported: \"'!s'\" which calls\n",
      "\"str()\" on the value, \"'!r'\" which calls \"repr()\" and \"'!a'\" which\n",
      "calls \"ascii()\".\n",
      "\n",
      "Some examples:\n",
      "\n",
      "   \"Harold's a clever {0!s}\"        # Calls str() on the argument first\n",
      "   \"Bring out the holy {name!r}\"    # Calls repr() on the argument first\n",
      "   \"More {!a}\"                      # Calls ascii() on the argument first\n",
      "\n",
      "The *format_spec* field contains a specification of how the value\n",
      "should be presented, including such details as field width, alignment,\n",
      "padding, decimal precision and so on.  Each value type can define its\n",
      "own “formatting mini-language” or interpretation of the *format_spec*.\n",
      "\n",
      "Most built-in types support a common formatting mini-language, which\n",
      "is described in the next section.\n",
      "\n",
      "A *format_spec* field can also include nested replacement fields\n",
      "within it. These nested replacement fields may contain a field name,\n",
      "conversion flag and format specification, but deeper nesting is not\n",
      "allowed.  The replacement fields within the format_spec are\n",
      "substituted before the *format_spec* string is interpreted. This\n",
      "allows the formatting of a value to be dynamically specified.\n",
      "\n",
      "See the Format examples section for some examples.\n",
      "\n",
      "\n",
      "Format Specification Mini-Language\n",
      "==================================\n",
      "\n",
      "“Format specifications” are used within replacement fields contained\n",
      "within a format string to define how individual values are presented\n",
      "(see Format String Syntax and Formatted string literals). They can\n",
      "also be passed directly to the built-in \"format()\" function.  Each\n",
      "formattable type may define how the format specification is to be\n",
      "interpreted.\n",
      "\n",
      "Most built-in types implement the following options for format\n",
      "specifications, although some of the formatting options are only\n",
      "supported by the numeric types.\n",
      "\n",
      "A general convention is that an empty format string (\"\"\"\") produces\n",
      "the same result as if you had called \"str()\" on the value. A non-empty\n",
      "format string typically modifies the result.\n",
      "\n",
      "The general form of a *standard format specifier* is:\n",
      "\n",
      "   format_spec     ::= [[fill]align][sign][#][0][width][grouping_option][.precision][type]\n",
      "   fill            ::= <any character>\n",
      "   align           ::= \"<\" | \">\" | \"=\" | \"^\"\n",
      "   sign            ::= \"+\" | \"-\" | \" \"\n",
      "   width           ::= digit+\n",
      "   grouping_option ::= \"_\" | \",\"\n",
      "   precision       ::= digit+\n",
      "   type            ::= \"b\" | \"c\" | \"d\" | \"e\" | \"E\" | \"f\" | \"F\" | \"g\" | \"G\" | \"n\" | \"o\" | \"s\" | \"x\" | \"X\" | \"%\"\n",
      "\n",
      "If a valid *align* value is specified, it can be preceded by a *fill*\n",
      "character that can be any character and defaults to a space if\n",
      "omitted. It is not possible to use a literal curly brace (“\"{\"” or\n",
      "“\"}\"”) as the *fill* character in a formatted string literal or when\n",
      "using the \"str.format()\" method.  However, it is possible to insert a\n",
      "curly brace with a nested replacement field.  This limitation doesn’t\n",
      "affect the \"format()\" function.\n",
      "\n",
      "The meaning of the various alignment options is as follows:\n",
      "\n",
      "   +-----------+------------------------------------------------------------+\n",
      "   | Option    | Meaning                                                    |\n",
      "   +===========+============================================================+\n",
      "   | \"'<'\"     | Forces the field to be left-aligned within the available   |\n",
      "   |           | space (this is the default for most objects).              |\n",
      "   +-----------+------------------------------------------------------------+\n",
      "   | \"'>'\"     | Forces the field to be right-aligned within the available  |\n",
      "   |           | space (this is the default for numbers).                   |\n",
      "   +-----------+------------------------------------------------------------+\n",
      "   | \"'='\"     | Forces the padding to be placed after the sign (if any)    |\n",
      "   |           | but before the digits.  This is used for printing fields   |\n",
      "   |           | in the form ‘+000000120’. This alignment option is only    |\n",
      "   |           | valid for numeric types.  It becomes the default when ‘0’  |\n",
      "   |           | immediately precedes the field width.                      |\n",
      "   +-----------+------------------------------------------------------------+\n",
      "   | \"'^'\"     | Forces the field to be centered within the available       |\n",
      "   |           | space.                                                     |\n",
      "   +-----------+------------------------------------------------------------+\n",
      "\n",
      "Note that unless a minimum field width is defined, the field width\n",
      "will always be the same size as the data to fill it, so that the\n",
      "alignment option has no meaning in this case.\n",
      "\n",
      "The *sign* option is only valid for number types, and can be one of\n",
      "the following:\n",
      "\n",
      "   +-----------+------------------------------------------------------------+\n",
      "   | Option    | Meaning                                                    |\n",
      "   +===========+============================================================+\n",
      "   | \"'+'\"     | indicates that a sign should be used for both positive as  |\n",
      "   |           | well as negative numbers.                                  |\n",
      "   +-----------+------------------------------------------------------------+\n",
      "   | \"'-'\"     | indicates that a sign should be used only for negative     |\n",
      "   |           | numbers (this is the default behavior).                    |\n",
      "   +-----------+------------------------------------------------------------+\n",
      "   | space     | indicates that a leading space should be used on positive  |\n",
      "   |           | numbers, and a minus sign on negative numbers.             |\n",
      "   +-----------+------------------------------------------------------------+\n",
      "\n",
      "The \"'#'\" option causes the “alternate form” to be used for the\n",
      "conversion.  The alternate form is defined differently for different\n",
      "types.  This option is only valid for integer, float, complex and\n",
      "Decimal types. For integers, when binary, octal, or hexadecimal output\n",
      "is used, this option adds the prefix respective \"'0b'\", \"'0o'\", or\n",
      "\"'0x'\" to the output value. For floats, complex and Decimal the\n",
      "alternate form causes the result of the conversion to always contain a\n",
      "decimal-point character, even if no digits follow it. Normally, a\n",
      "decimal-point character appears in the result of these conversions\n",
      "only if a digit follows it. In addition, for \"'g'\" and \"'G'\"\n",
      "conversions, trailing zeros are not removed from the result.\n",
      "\n",
      "The \"','\" option signals the use of a comma for a thousands separator.\n",
      "For a locale aware separator, use the \"'n'\" integer presentation type\n",
      "instead.\n",
      "\n",
      "Changed in version 3.1: Added the \"','\" option (see also **PEP 378**).\n",
      "\n",
      "The \"'_'\" option signals the use of an underscore for a thousands\n",
      "separator for floating point presentation types and for integer\n",
      "presentation type \"'d'\".  For integer presentation types \"'b'\", \"'o'\",\n",
      "\"'x'\", and \"'X'\", underscores will be inserted every 4 digits.  For\n",
      "other presentation types, specifying this option is an error.\n",
      "\n",
      "Changed in version 3.6: Added the \"'_'\" option (see also **PEP 515**).\n",
      "\n",
      "*width* is a decimal integer defining the minimum field width.  If not\n",
      "specified, then the field width will be determined by the content.\n",
      "\n",
      "When no explicit alignment is given, preceding the *width* field by a\n",
      "zero (\"'0'\") character enables sign-aware zero-padding for numeric\n",
      "types.  This is equivalent to a *fill* character of \"'0'\" with an\n",
      "*alignment* type of \"'='\".\n",
      "\n",
      "The *precision* is a decimal number indicating how many digits should\n",
      "be displayed after the decimal point for a floating point value\n",
      "formatted with \"'f'\" and \"'F'\", or before and after the decimal point\n",
      "for a floating point value formatted with \"'g'\" or \"'G'\".  For non-\n",
      "number types the field indicates the maximum field size - in other\n",
      "words, how many characters will be used from the field content. The\n",
      "*precision* is not allowed for integer values.\n",
      "\n",
      "Finally, the *type* determines how the data should be presented.\n",
      "\n",
      "The available string presentation types are:\n",
      "\n",
      "   +-----------+------------------------------------------------------------+\n",
      "   | Type      | Meaning                                                    |\n",
      "   +===========+============================================================+\n",
      "   | \"'s'\"     | String format. This is the default type for strings and    |\n",
      "   |           | may be omitted.                                            |\n",
      "   +-----------+------------------------------------------------------------+\n",
      "   | None      | The same as \"'s'\".                                         |\n",
      "   +-----------+------------------------------------------------------------+\n",
      "\n",
      "The available integer presentation types are:\n",
      "\n",
      "   +-----------+------------------------------------------------------------+\n",
      "   | Type      | Meaning                                                    |\n",
      "   +===========+============================================================+\n",
      "   | \"'b'\"     | Binary format. Outputs the number in base 2.               |\n",
      "   +-----------+------------------------------------------------------------+\n",
      "   | \"'c'\"     | Character. Converts the integer to the corresponding       |\n",
      "   |           | unicode character before printing.                         |\n",
      "   +-----------+------------------------------------------------------------+\n",
      "   | \"'d'\"     | Decimal Integer. Outputs the number in base 10.            |\n",
      "   +-----------+------------------------------------------------------------+\n",
      "   | \"'o'\"     | Octal format. Outputs the number in base 8.                |\n",
      "   +-----------+------------------------------------------------------------+\n",
      "   | \"'x'\"     | Hex format. Outputs the number in base 16, using lower-    |\n",
      "   |           | case letters for the digits above 9.                       |\n",
      "   +-----------+------------------------------------------------------------+\n",
      "   | \"'X'\"     | Hex format. Outputs the number in base 16, using upper-    |\n",
      "   |           | case letters for the digits above 9.                       |\n",
      "   +-----------+------------------------------------------------------------+\n",
      "   | \"'n'\"     | Number. This is the same as \"'d'\", except that it uses the |\n",
      "   |           | current locale setting to insert the appropriate number    |\n",
      "   |           | separator characters.                                      |\n",
      "   +-----------+------------------------------------------------------------+\n",
      "   | None      | The same as \"'d'\".                                         |\n",
      "   +-----------+------------------------------------------------------------+\n",
      "\n",
      "In addition to the above presentation types, integers can be formatted\n",
      "with the floating point presentation types listed below (except \"'n'\"\n",
      "and \"None\"). When doing so, \"float()\" is used to convert the integer\n",
      "to a floating point number before formatting.\n",
      "\n",
      "The available presentation types for floating point and decimal values\n",
      "are:\n",
      "\n",
      "   +-----------+------------------------------------------------------------+\n",
      "   | Type      | Meaning                                                    |\n",
      "   +===========+============================================================+\n",
      "   | \"'e'\"     | Exponent notation. Prints the number in scientific         |\n",
      "   |           | notation using the letter ‘e’ to indicate the exponent.    |\n",
      "   |           | The default precision is \"6\".                              |\n",
      "   +-----------+------------------------------------------------------------+\n",
      "   | \"'E'\"     | Exponent notation. Same as \"'e'\" except it uses an upper   |\n",
      "   |           | case ‘E’ as the separator character.                       |\n",
      "   +-----------+------------------------------------------------------------+\n",
      "   | \"'f'\"     | Fixed-point notation. Displays the number as a fixed-point |\n",
      "   |           | number. The default precision is \"6\".                      |\n",
      "   +-----------+------------------------------------------------------------+\n",
      "   | \"'F'\"     | Fixed-point notation. Same as \"'f'\", but converts \"nan\" to |\n",
      "   |           | \"NAN\" and \"inf\" to \"INF\".                                  |\n",
      "   +-----------+------------------------------------------------------------+\n",
      "   | \"'g'\"     | General format.  For a given precision \"p >= 1\", this      |\n",
      "   |           | rounds the number to \"p\" significant digits and then       |\n",
      "   |           | formats the result in either fixed-point format or in      |\n",
      "   |           | scientific notation, depending on its magnitude.  The      |\n",
      "   |           | precise rules are as follows: suppose that the result      |\n",
      "   |           | formatted with presentation type \"'e'\" and precision \"p-1\" |\n",
      "   |           | would have exponent \"exp\".  Then if \"-4 <= exp < p\", the   |\n",
      "   |           | number is formatted with presentation type \"'f'\" and       |\n",
      "   |           | precision \"p-1-exp\".  Otherwise, the number is formatted   |\n",
      "   |           | with presentation type \"'e'\" and precision \"p-1\". In both  |\n",
      "   |           | cases insignificant trailing zeros are removed from the    |\n",
      "   |           | significand, and the decimal point is also removed if      |\n",
      "   |           | there are no remaining digits following it.  Positive and  |\n",
      "   |           | negative infinity, positive and negative zero, and nans,   |\n",
      "   |           | are formatted as \"inf\", \"-inf\", \"0\", \"-0\" and \"nan\"        |\n",
      "   |           | respectively, regardless of the precision.  A precision of |\n",
      "   |           | \"0\" is treated as equivalent to a precision of \"1\". The    |\n",
      "   |           | default precision is \"6\".                                  |\n",
      "   +-----------+------------------------------------------------------------+\n",
      "   | \"'G'\"     | General format. Same as \"'g'\" except switches to \"'E'\" if  |\n",
      "   |           | the number gets too large. The representations of infinity |\n",
      "   |           | and NaN are uppercased, too.                               |\n",
      "   +-----------+------------------------------------------------------------+\n",
      "   | \"'n'\"     | Number. This is the same as \"'g'\", except that it uses the |\n",
      "   |           | current locale setting to insert the appropriate number    |\n",
      "   |           | separator characters.                                      |\n",
      "   +-----------+------------------------------------------------------------+\n",
      "   | \"'%'\"     | Percentage. Multiplies the number by 100 and displays in   |\n",
      "   |           | fixed (\"'f'\") format, followed by a percent sign.          |\n",
      "   +-----------+------------------------------------------------------------+\n",
      "   | None      | Similar to \"'g'\", except that fixed-point notation, when   |\n",
      "   |           | used, has at least one digit past the decimal point. The   |\n",
      "   |           | default precision is as high as needed to represent the    |\n",
      "   |           | particular value. The overall effect is to match the       |\n",
      "   |           | output of \"str()\" as altered by the other format           |\n",
      "   |           | modifiers.                                                 |\n",
      "   +-----------+------------------------------------------------------------+\n",
      "\n",
      "\n",
      "Format examples\n",
      "===============\n",
      "\n",
      "This section contains examples of the \"str.format()\" syntax and\n",
      "comparison with the old \"%\"-formatting.\n",
      "\n",
      "In most of the cases the syntax is similar to the old \"%\"-formatting,\n",
      "with the addition of the \"{}\" and with \":\" used instead of \"%\". For\n",
      "example, \"'%03.2f'\" can be translated to \"'{:03.2f}'\".\n",
      "\n",
      "The new format syntax also supports new and different options, shown\n",
      "in the following examples.\n",
      "\n",
      "Accessing arguments by position:\n",
      "\n",
      "   >>> '{0}, {1}, {2}'.format('a', 'b', 'c')\n",
      "   'a, b, c'\n",
      "   >>> '{}, {}, {}'.format('a', 'b', 'c')  # 3.1+ only\n",
      "   'a, b, c'\n",
      "   >>> '{2}, {1}, {0}'.format('a', 'b', 'c')\n",
      "   'c, b, a'\n",
      "   >>> '{2}, {1}, {0}'.format(*'abc')      # unpacking argument sequence\n",
      "   'c, b, a'\n",
      "   >>> '{0}{1}{0}'.format('abra', 'cad')   # arguments' indices can be repeated\n",
      "   'abracadabra'\n",
      "\n",
      "Accessing arguments by name:\n",
      "\n",
      "   >>> 'Coordinates: {latitude}, {longitude}'.format(latitude='37.24N', longitude='-115.81W')\n",
      "   'Coordinates: 37.24N, -115.81W'\n",
      "   >>> coord = {'latitude': '37.24N', 'longitude': '-115.81W'}\n",
      "   >>> 'Coordinates: {latitude}, {longitude}'.format(**coord)\n",
      "   'Coordinates: 37.24N, -115.81W'\n",
      "\n",
      "Accessing arguments’ attributes:\n",
      "\n",
      "   >>> c = 3-5j\n",
      "   >>> ('The complex number {0} is formed from the real part {0.real} '\n",
      "   ...  'and the imaginary part {0.imag}.').format(c)\n",
      "   'The complex number (3-5j) is formed from the real part 3.0 and the imaginary part -5.0.'\n",
      "   >>> class Point:\n",
      "   ...     def __init__(self, x, y):\n",
      "   ...         self.x, self.y = x, y\n",
      "   ...     def __str__(self):\n",
      "   ...         return 'Point({self.x}, {self.y})'.format(self=self)\n",
      "   ...\n",
      "   >>> str(Point(4, 2))\n",
      "   'Point(4, 2)'\n",
      "\n",
      "Accessing arguments’ items:\n",
      "\n",
      "   >>> coord = (3, 5)\n",
      "   >>> 'X: {0[0]};  Y: {0[1]}'.format(coord)\n",
      "   'X: 3;  Y: 5'\n",
      "\n",
      "Replacing \"%s\" and \"%r\":\n",
      "\n",
      "   >>> \"repr() shows quotes: {!r}; str() doesn't: {!s}\".format('test1', 'test2')\n",
      "   \"repr() shows quotes: 'test1'; str() doesn't: test2\"\n",
      "\n",
      "Aligning the text and specifying a width:\n",
      "\n",
      "   >>> '{:<30}'.format('left aligned')\n",
      "   'left aligned                  '\n",
      "   >>> '{:>30}'.format('right aligned')\n",
      "   '                 right aligned'\n",
      "   >>> '{:^30}'.format('centered')\n",
      "   '           centered           '\n",
      "   >>> '{:*^30}'.format('centered')  # use '*' as a fill char\n",
      "   '***********centered***********'\n",
      "\n",
      "Replacing \"%+f\", \"%-f\", and \"% f\" and specifying a sign:\n",
      "\n",
      "   >>> '{:+f}; {:+f}'.format(3.14, -3.14)  # show it always\n",
      "   '+3.140000; -3.140000'\n",
      "   >>> '{: f}; {: f}'.format(3.14, -3.14)  # show a space for positive numbers\n",
      "   ' 3.140000; -3.140000'\n",
      "   >>> '{:-f}; {:-f}'.format(3.14, -3.14)  # show only the minus -- same as '{:f}; {:f}'\n",
      "   '3.140000; -3.140000'\n",
      "\n",
      "Replacing \"%x\" and \"%o\" and converting the value to different bases:\n",
      "\n",
      "   >>> # format also supports binary numbers\n",
      "   >>> \"int: {0:d};  hex: {0:x};  oct: {0:o};  bin: {0:b}\".format(42)\n",
      "   'int: 42;  hex: 2a;  oct: 52;  bin: 101010'\n",
      "   >>> # with 0x, 0o, or 0b as prefix:\n",
      "   >>> \"int: {0:d};  hex: {0:#x};  oct: {0:#o};  bin: {0:#b}\".format(42)\n",
      "   'int: 42;  hex: 0x2a;  oct: 0o52;  bin: 0b101010'\n",
      "\n",
      "Using the comma as a thousands separator:\n",
      "\n",
      "   >>> '{:,}'.format(1234567890)\n",
      "   '1,234,567,890'\n",
      "\n",
      "Expressing a percentage:\n",
      "\n",
      "   >>> points = 19\n",
      "   >>> total = 22\n",
      "   >>> 'Correct answers: {:.2%}'.format(points/total)\n",
      "   'Correct answers: 86.36%'\n",
      "\n",
      "Using type-specific formatting:\n",
      "\n",
      "   >>> import datetime\n",
      "   >>> d = datetime.datetime(2010, 7, 4, 12, 15, 58)\n",
      "   >>> '{:%Y-%m-%d %H:%M:%S}'.format(d)\n",
      "   '2010-07-04 12:15:58'\n",
      "\n",
      "Nesting arguments and more complex examples:\n",
      "\n",
      "   >>> for align, text in zip('<^>', ['left', 'center', 'right']):\n",
      "   ...     '{0:{fill}{align}16}'.format(text, fill=align, align=align)\n",
      "   ...\n",
      "   'left<<<<<<<<<<<<'\n",
      "   '^^^^^center^^^^^'\n",
      "   '>>>>>>>>>>>right'\n",
      "   >>>\n",
      "   >>> octets = [192, 168, 0, 1]\n",
      "   >>> '{:02X}{:02X}{:02X}{:02X}'.format(*octets)\n",
      "   'C0A80001'\n",
      "   >>> int(_, 16)\n",
      "   3232235521\n",
      "   >>>\n",
      "   >>> width = 5\n",
      "   >>> for num in range(5,12): \n",
      "   ...     for base in 'dXob':\n",
      "   ...         print('{0:{width}{base}}'.format(num, base=base, width=width), end=' ')\n",
      "   ...     print()\n",
      "   ...\n",
      "       5     5     5   101\n",
      "       6     6     6   110\n",
      "       7     7     7   111\n",
      "       8     8    10  1000\n",
      "       9     9    11  1001\n",
      "      10     A    12  1010\n",
      "      11     B    13  1011\n",
      "\n",
      "Related help topics: OPERATORS\n",
      "\n"
     ]
    }
   ],
   "source": [
    "help('FORMATTING')"
   ]
  },
  {
   "cell_type": "code",
   "execution_count": 54,
   "metadata": {},
   "outputs": [
    {
     "name": "stdout",
     "output_type": "stream",
     "text": [
      "How are you +00001.00\n"
     ]
    }
   ],
   "source": [
    "print(f\"How are you {1:=+09.2f}\")"
   ]
  },
  {
   "cell_type": "code",
   "execution_count": 55,
   "metadata": {},
   "outputs": [
    {
     "name": "stdout",
     "output_type": "stream",
     "text": [
      "+12.230000 -12.230000\n",
      " 12.230000 -12.230000\n"
     ]
    }
   ],
   "source": [
    "print(\"{:+f} {:5f}\".format(12.23, -12.23))\n",
    "print(\" {:f} {:f}\".format(12.23, -12.23))"
   ]
  },
  {
   "cell_type": "code",
   "execution_count": 56,
   "metadata": {},
   "outputs": [
    {
     "data": {
      "text/plain": [
       "'   Cat'"
      ]
     },
     "execution_count": 56,
     "metadata": {},
     "output_type": "execute_result"
    }
   ],
   "source": [
    "f\"{'Catterpillar':>6.3}\""
   ]
  },
  {
   "cell_type": "code",
   "execution_count": 57,
   "metadata": {},
   "outputs": [
    {
     "data": {
      "text/plain": [
       "'@@@@@abcdefghijklmnopqrstuvwxyzABCDEFGHIJKLMNOPQRSTUVWXYZ@@@@@@'"
      ]
     },
     "execution_count": 57,
     "metadata": {},
     "output_type": "execute_result"
    }
   ],
   "source": [
    "import string as s\n",
    "f\"{s.ascii_letters:@^63}\""
   ]
  },
  {
   "cell_type": "code",
   "execution_count": 58,
   "metadata": {},
   "outputs": [
    {
     "data": {
      "text/plain": [
       "'+0004.000'"
      ]
     },
     "execution_count": 58,
     "metadata": {},
     "output_type": "execute_result"
    }
   ],
   "source": [
    "\"{:0=+9.3f}\".format(2+2)"
   ]
  },
  {
   "cell_type": "code",
   "execution_count": 59,
   "metadata": {},
   "outputs": [
    {
     "data": {
      "text/plain": [
       "'100.00%'"
      ]
     },
     "execution_count": 59,
     "metadata": {},
     "output_type": "execute_result"
    }
   ],
   "source": [
    "f\"{1:=>4.2%}\""
   ]
  },
  {
   "cell_type": "code",
   "execution_count": 60,
   "metadata": {},
   "outputs": [],
   "source": [
    "b = 4,6"
   ]
  },
  {
   "cell_type": "code",
   "execution_count": 61,
   "metadata": {},
   "outputs": [
    {
     "data": {
      "text/plain": [
       "(4, 6)"
      ]
     },
     "execution_count": 61,
     "metadata": {},
     "output_type": "execute_result"
    }
   ],
   "source": [
    "b"
   ]
  },
  {
   "cell_type": "code",
   "execution_count": 62,
   "metadata": {},
   "outputs": [
    {
     "data": {
      "text/plain": [
       "10"
      ]
     },
     "execution_count": 62,
     "metadata": {},
     "output_type": "execute_result"
    }
   ],
   "source": [
    "b[0]+b[1]"
   ]
  },
  {
   "cell_type": "markdown",
   "metadata": {},
   "source": [
    "print(1,2,3, sep = \",\")"
   ]
  },
  {
   "cell_type": "code",
   "execution_count": 63,
   "metadata": {},
   "outputs": [
    {
     "name": "stdout",
     "output_type": "stream",
     "text": [
      "Help on built-in function print in module builtins:\n",
      "\n",
      "print(...)\n",
      "    print(value, ..., sep=' ', end='\\n', file=sys.stdout, flush=False)\n",
      "    \n",
      "    Prints the values to a stream, or to sys.stdout by default.\n",
      "    Optional keyword arguments:\n",
      "    file:  a file-like object (stream); defaults to the current sys.stdout.\n",
      "    sep:   string inserted between values, default a space.\n",
      "    end:   string appended after the last value, default a newline.\n",
      "    flush: whether to forcibly flush the stream.\n",
      "\n"
     ]
    }
   ],
   "source": [
    "help(print)"
   ]
  },
  {
   "cell_type": "code",
   "execution_count": 64,
   "metadata": {},
   "outputs": [
    {
     "data": {
      "text/plain": [
       "{'__name__': '__main__',\n",
       " '__doc__': 'Automatically created module for IPython interactive environment',\n",
       " '__package__': None,\n",
       " '__loader__': None,\n",
       " '__spec__': None,\n",
       " '__builtin__': <module 'builtins' (built-in)>,\n",
       " '__builtins__': <module 'builtins' (built-in)>,\n",
       " '_ih': ['',\n",
       "  \"# for n in range(20):  \\n#         mod = n % 10  \\n#         print(n, '%', 10, 'is', mod)\",\n",
       "  'map = \"to_translate\".maketrans({\"a\": \"A\", \"e\": \"E\", \"i\": \"I\", \"o\": \"O\", \"u\": \"U\"})',\n",
       "  'map2 = \"to_translate\".maketrans(\"aeiou\",\"12345\")',\n",
       "  'map3 = \"to_translate\".maketrans(\"aeiou\",\"12345\",\"AEIOU\")',\n",
       "  'help(str.maketrans)',\n",
       "  'map',\n",
       "  'map2',\n",
       "  'map3',\n",
       "  '\"I am on my way\".translate(map)',\n",
       "  '\"I am on my way\".translate(map2)',\n",
       "  '\"I am on my way\".translate(map3)',\n",
       "  'map1 = str.maketrans(\"aeiou\",\"12345\")',\n",
       "  'map1',\n",
       "  'b = (\"How are you\\\\n\"\\n\"Brother\\\\n\"\\n\"I will need you\\\\n\")',\n",
       "  'b.splitlines(4)',\n",
       "  'help(str.splitlines)',\n",
       "  'b.split(\"\\\\n\")',\n",
       "  'b.split(\"\\\\n\",3)',\n",
       "  'b.split(\"\\\\n\",1)',\n",
       "  'help(str.partition)',\n",
       "  '\"ABCDE\".partition(\"B\")',\n",
       "  '\"ABCDE\".partition(\"ABCB\")',\n",
       "  '\"ABCDE\".partition(\"ABCDE\")',\n",
       "  '\"ABCDE\".partition(\"XXXXX\")',\n",
       "  '\"ABCDE\".replace(\"B\",\"X\",0)',\n",
       "  '\"ABCDE\".replace(\"B\",\"X\",10)',\n",
       "  '\"ABCDE\".replace(\"B\",\"X\",-1)',\n",
       "  '\"ABBBBBBBBBBBBBBBBBBBCDE\".replace(\"B\",\"X\",0)',\n",
       "  '\"ABBBBBBBBBBBBBBBBBBBCDE\".replace(\"B\",\"X\",-1)',\n",
       "  '\"ABBBBBBBBBBBBBBBBBBBCDE\".split(\"B\",0)',\n",
       "  '\"ABBBBBBBBBBBBBBBBBBBCDE\".split(\"B\",-1)',\n",
       "  '\"ABBBBBBBBBBBBBBBBBBBCDE\".split(\"B\",5)',\n",
       "  '\"ABBBBBBBBBBBBBBBBBBBCDE\".split(\"B\",-2)',\n",
       "  '\"ABBBBBBBBBBBBBBBBBBBCDE\".split(\"B\",-10)',\n",
       "  '\"Hello65026240world\".title()',\n",
       "  '\"HELLO6!@#$$%%%%^&********()-=5026240world\".title()',\n",
       "  '\"                Hello650             26240world                       \".strip()',\n",
       "  '\"Hello65026240world\".strip(\"H\")',\n",
       "  '\"llllllllHello65026240worldlllllllllllll\".rstrip(\"l\")',\n",
       "  '\"llllllllHello65026240worldlllllllllllll\".find(\"l\")',\n",
       "  '\"llllllllHello65026240worldlllllllllllll\".find(\"f\")',\n",
       "  'len(\"llllllllHello65026240worldlllllllllllll\")',\n",
       "  's = \"Hello\"',\n",
       "  'print(s[1])',\n",
       "  \"s = '1' + s[1:] \",\n",
       "  'print(s)',\n",
       "  \"print('\\\\4\\\\x3f')\",\n",
       "  'import this',\n",
       "  'import string\\nstring.ascii_lowercase + string.ascii_uppercase',\n",
       "  'class Comedian:\\n    def __init__(self, first_name, last_name, age):\\n        self.first_name = first_name\\n        self.last_name = last_name\\n        self.age = age\\n\\n#     def __str__(self):\\n#         return f\"{self.first_name} {self.last_name} is {self.age}.\"\\n\\n    def __repr__(self):\\n        return f\"{self.first_name} {self.last_name} is {self.age}. Surprise!\"\\n\\n    \\n\\nnew_comedian = Comedian(\"Eric\", \"Idle\", \"74\")\\nf\"{new_comedian}\"\\nprint(new_comedian)',\n",
       "  'new_comedian',\n",
       "  'help(print)',\n",
       "  \"help('FORMATTING')\",\n",
       "  'print(f\"How are you {1:=+09.2f}\")',\n",
       "  'print(\"{:+f} {:5f}\".format(12.23, -12.23))\\nprint(\" {:f} {:f}\".format(12.23, -12.23))',\n",
       "  'f\"{\\'Catterpillar\\':>6.3}\"',\n",
       "  'import string as s\\nf\"{s.ascii_letters:@^63}\"',\n",
       "  '\"{:0=+9.3f}\".format(2+2)',\n",
       "  'f\"{1:=>4.2%}\"',\n",
       "  'b = 4,6',\n",
       "  'b',\n",
       "  'b[0]+b[1]',\n",
       "  'help(print)',\n",
       "  'locals()'],\n",
       " '_oh': {6: {97: 'A', 101: 'E', 105: 'I', 111: 'O', 117: 'U'},\n",
       "  7: {97: 49, 101: 50, 105: 51, 111: 52, 117: 53},\n",
       "  8: {97: 49,\n",
       "   101: 50,\n",
       "   105: 51,\n",
       "   111: 52,\n",
       "   117: 53,\n",
       "   65: None,\n",
       "   69: None,\n",
       "   73: None,\n",
       "   79: None,\n",
       "   85: None},\n",
       "  9: 'I Am On my wAy',\n",
       "  10: 'I 1m 4n my w1y',\n",
       "  11: ' 1m 4n my w1y',\n",
       "  13: {97: 49, 101: 50, 105: 51, 111: 52, 117: 53},\n",
       "  15: ['How are you\\n', 'Brother\\n', 'I will need you\\n'],\n",
       "  17: ['How are you', 'Brother', 'I will need you', ''],\n",
       "  18: ['How are you', 'Brother', 'I will need you', ''],\n",
       "  19: ['How are you', 'Brother\\nI will need you\\n'],\n",
       "  21: ('A', 'B', 'CDE'),\n",
       "  22: ('ABCDE', '', ''),\n",
       "  23: ('', 'ABCDE', ''),\n",
       "  24: ('ABCDE', '', ''),\n",
       "  25: 'ABCDE',\n",
       "  26: 'AXCDE',\n",
       "  27: 'AXCDE',\n",
       "  28: 'ABBBBBBBBBBBBBBBBBBBCDE',\n",
       "  29: 'AXXXXXXXXXXXXXXXXXXXCDE',\n",
       "  30: ['ABBBBBBBBBBBBBBBBBBBCDE'],\n",
       "  31: ['A',\n",
       "   '',\n",
       "   '',\n",
       "   '',\n",
       "   '',\n",
       "   '',\n",
       "   '',\n",
       "   '',\n",
       "   '',\n",
       "   '',\n",
       "   '',\n",
       "   '',\n",
       "   '',\n",
       "   '',\n",
       "   '',\n",
       "   '',\n",
       "   '',\n",
       "   '',\n",
       "   '',\n",
       "   'CDE'],\n",
       "  32: ['A', '', '', '', '', 'BBBBBBBBBBBBBBCDE'],\n",
       "  33: ['A',\n",
       "   '',\n",
       "   '',\n",
       "   '',\n",
       "   '',\n",
       "   '',\n",
       "   '',\n",
       "   '',\n",
       "   '',\n",
       "   '',\n",
       "   '',\n",
       "   '',\n",
       "   '',\n",
       "   '',\n",
       "   '',\n",
       "   '',\n",
       "   '',\n",
       "   '',\n",
       "   '',\n",
       "   'CDE'],\n",
       "  34: ['A',\n",
       "   '',\n",
       "   '',\n",
       "   '',\n",
       "   '',\n",
       "   '',\n",
       "   '',\n",
       "   '',\n",
       "   '',\n",
       "   '',\n",
       "   '',\n",
       "   '',\n",
       "   '',\n",
       "   '',\n",
       "   '',\n",
       "   '',\n",
       "   '',\n",
       "   '',\n",
       "   '',\n",
       "   'CDE'],\n",
       "  35: 'Hello65026240World',\n",
       "  36: 'Hello6!@#$$%%%%^&********()-=5026240World',\n",
       "  37: 'Hello650             26240world',\n",
       "  38: 'ello65026240world',\n",
       "  39: 'llllllllHello65026240world',\n",
       "  40: 0,\n",
       "  41: -1,\n",
       "  42: 39,\n",
       "  49: 'abcdefghijklmnopqrstuvwxyzABCDEFGHIJKLMNOPQRSTUVWXYZ',\n",
       "  51: Eric Idle is 74. Surprise!,\n",
       "  56: '   Cat',\n",
       "  57: '@@@@@abcdefghijklmnopqrstuvwxyzABCDEFGHIJKLMNOPQRSTUVWXYZ@@@@@@',\n",
       "  58: '+0004.000',\n",
       "  59: '100.00%',\n",
       "  61: (4, 6),\n",
       "  62: 10},\n",
       " '_dh': ['C:\\\\Users\\\\Haseeb\\\\Documents\\\\iPyNotebooks'],\n",
       " 'In': ['',\n",
       "  \"# for n in range(20):  \\n#         mod = n % 10  \\n#         print(n, '%', 10, 'is', mod)\",\n",
       "  'map = \"to_translate\".maketrans({\"a\": \"A\", \"e\": \"E\", \"i\": \"I\", \"o\": \"O\", \"u\": \"U\"})',\n",
       "  'map2 = \"to_translate\".maketrans(\"aeiou\",\"12345\")',\n",
       "  'map3 = \"to_translate\".maketrans(\"aeiou\",\"12345\",\"AEIOU\")',\n",
       "  'help(str.maketrans)',\n",
       "  'map',\n",
       "  'map2',\n",
       "  'map3',\n",
       "  '\"I am on my way\".translate(map)',\n",
       "  '\"I am on my way\".translate(map2)',\n",
       "  '\"I am on my way\".translate(map3)',\n",
       "  'map1 = str.maketrans(\"aeiou\",\"12345\")',\n",
       "  'map1',\n",
       "  'b = (\"How are you\\\\n\"\\n\"Brother\\\\n\"\\n\"I will need you\\\\n\")',\n",
       "  'b.splitlines(4)',\n",
       "  'help(str.splitlines)',\n",
       "  'b.split(\"\\\\n\")',\n",
       "  'b.split(\"\\\\n\",3)',\n",
       "  'b.split(\"\\\\n\",1)',\n",
       "  'help(str.partition)',\n",
       "  '\"ABCDE\".partition(\"B\")',\n",
       "  '\"ABCDE\".partition(\"ABCB\")',\n",
       "  '\"ABCDE\".partition(\"ABCDE\")',\n",
       "  '\"ABCDE\".partition(\"XXXXX\")',\n",
       "  '\"ABCDE\".replace(\"B\",\"X\",0)',\n",
       "  '\"ABCDE\".replace(\"B\",\"X\",10)',\n",
       "  '\"ABCDE\".replace(\"B\",\"X\",-1)',\n",
       "  '\"ABBBBBBBBBBBBBBBBBBBCDE\".replace(\"B\",\"X\",0)',\n",
       "  '\"ABBBBBBBBBBBBBBBBBBBCDE\".replace(\"B\",\"X\",-1)',\n",
       "  '\"ABBBBBBBBBBBBBBBBBBBCDE\".split(\"B\",0)',\n",
       "  '\"ABBBBBBBBBBBBBBBBBBBCDE\".split(\"B\",-1)',\n",
       "  '\"ABBBBBBBBBBBBBBBBBBBCDE\".split(\"B\",5)',\n",
       "  '\"ABBBBBBBBBBBBBBBBBBBCDE\".split(\"B\",-2)',\n",
       "  '\"ABBBBBBBBBBBBBBBBBBBCDE\".split(\"B\",-10)',\n",
       "  '\"Hello65026240world\".title()',\n",
       "  '\"HELLO6!@#$$%%%%^&********()-=5026240world\".title()',\n",
       "  '\"                Hello650             26240world                       \".strip()',\n",
       "  '\"Hello65026240world\".strip(\"H\")',\n",
       "  '\"llllllllHello65026240worldlllllllllllll\".rstrip(\"l\")',\n",
       "  '\"llllllllHello65026240worldlllllllllllll\".find(\"l\")',\n",
       "  '\"llllllllHello65026240worldlllllllllllll\".find(\"f\")',\n",
       "  'len(\"llllllllHello65026240worldlllllllllllll\")',\n",
       "  's = \"Hello\"',\n",
       "  'print(s[1])',\n",
       "  \"s = '1' + s[1:] \",\n",
       "  'print(s)',\n",
       "  \"print('\\\\4\\\\x3f')\",\n",
       "  'import this',\n",
       "  'import string\\nstring.ascii_lowercase + string.ascii_uppercase',\n",
       "  'class Comedian:\\n    def __init__(self, first_name, last_name, age):\\n        self.first_name = first_name\\n        self.last_name = last_name\\n        self.age = age\\n\\n#     def __str__(self):\\n#         return f\"{self.first_name} {self.last_name} is {self.age}.\"\\n\\n    def __repr__(self):\\n        return f\"{self.first_name} {self.last_name} is {self.age}. Surprise!\"\\n\\n    \\n\\nnew_comedian = Comedian(\"Eric\", \"Idle\", \"74\")\\nf\"{new_comedian}\"\\nprint(new_comedian)',\n",
       "  'new_comedian',\n",
       "  'help(print)',\n",
       "  \"help('FORMATTING')\",\n",
       "  'print(f\"How are you {1:=+09.2f}\")',\n",
       "  'print(\"{:+f} {:5f}\".format(12.23, -12.23))\\nprint(\" {:f} {:f}\".format(12.23, -12.23))',\n",
       "  'f\"{\\'Catterpillar\\':>6.3}\"',\n",
       "  'import string as s\\nf\"{s.ascii_letters:@^63}\"',\n",
       "  '\"{:0=+9.3f}\".format(2+2)',\n",
       "  'f\"{1:=>4.2%}\"',\n",
       "  'b = 4,6',\n",
       "  'b',\n",
       "  'b[0]+b[1]',\n",
       "  'help(print)',\n",
       "  'locals()'],\n",
       " 'Out': {6: {97: 'A', 101: 'E', 105: 'I', 111: 'O', 117: 'U'},\n",
       "  7: {97: 49, 101: 50, 105: 51, 111: 52, 117: 53},\n",
       "  8: {97: 49,\n",
       "   101: 50,\n",
       "   105: 51,\n",
       "   111: 52,\n",
       "   117: 53,\n",
       "   65: None,\n",
       "   69: None,\n",
       "   73: None,\n",
       "   79: None,\n",
       "   85: None},\n",
       "  9: 'I Am On my wAy',\n",
       "  10: 'I 1m 4n my w1y',\n",
       "  11: ' 1m 4n my w1y',\n",
       "  13: {97: 49, 101: 50, 105: 51, 111: 52, 117: 53},\n",
       "  15: ['How are you\\n', 'Brother\\n', 'I will need you\\n'],\n",
       "  17: ['How are you', 'Brother', 'I will need you', ''],\n",
       "  18: ['How are you', 'Brother', 'I will need you', ''],\n",
       "  19: ['How are you', 'Brother\\nI will need you\\n'],\n",
       "  21: ('A', 'B', 'CDE'),\n",
       "  22: ('ABCDE', '', ''),\n",
       "  23: ('', 'ABCDE', ''),\n",
       "  24: ('ABCDE', '', ''),\n",
       "  25: 'ABCDE',\n",
       "  26: 'AXCDE',\n",
       "  27: 'AXCDE',\n",
       "  28: 'ABBBBBBBBBBBBBBBBBBBCDE',\n",
       "  29: 'AXXXXXXXXXXXXXXXXXXXCDE',\n",
       "  30: ['ABBBBBBBBBBBBBBBBBBBCDE'],\n",
       "  31: ['A',\n",
       "   '',\n",
       "   '',\n",
       "   '',\n",
       "   '',\n",
       "   '',\n",
       "   '',\n",
       "   '',\n",
       "   '',\n",
       "   '',\n",
       "   '',\n",
       "   '',\n",
       "   '',\n",
       "   '',\n",
       "   '',\n",
       "   '',\n",
       "   '',\n",
       "   '',\n",
       "   '',\n",
       "   'CDE'],\n",
       "  32: ['A', '', '', '', '', 'BBBBBBBBBBBBBBCDE'],\n",
       "  33: ['A',\n",
       "   '',\n",
       "   '',\n",
       "   '',\n",
       "   '',\n",
       "   '',\n",
       "   '',\n",
       "   '',\n",
       "   '',\n",
       "   '',\n",
       "   '',\n",
       "   '',\n",
       "   '',\n",
       "   '',\n",
       "   '',\n",
       "   '',\n",
       "   '',\n",
       "   '',\n",
       "   '',\n",
       "   'CDE'],\n",
       "  34: ['A',\n",
       "   '',\n",
       "   '',\n",
       "   '',\n",
       "   '',\n",
       "   '',\n",
       "   '',\n",
       "   '',\n",
       "   '',\n",
       "   '',\n",
       "   '',\n",
       "   '',\n",
       "   '',\n",
       "   '',\n",
       "   '',\n",
       "   '',\n",
       "   '',\n",
       "   '',\n",
       "   '',\n",
       "   'CDE'],\n",
       "  35: 'Hello65026240World',\n",
       "  36: 'Hello6!@#$$%%%%^&********()-=5026240World',\n",
       "  37: 'Hello650             26240world',\n",
       "  38: 'ello65026240world',\n",
       "  39: 'llllllllHello65026240world',\n",
       "  40: 0,\n",
       "  41: -1,\n",
       "  42: 39,\n",
       "  49: 'abcdefghijklmnopqrstuvwxyzABCDEFGHIJKLMNOPQRSTUVWXYZ',\n",
       "  51: Eric Idle is 74. Surprise!,\n",
       "  56: '   Cat',\n",
       "  57: '@@@@@abcdefghijklmnopqrstuvwxyzABCDEFGHIJKLMNOPQRSTUVWXYZ@@@@@@',\n",
       "  58: '+0004.000',\n",
       "  59: '100.00%',\n",
       "  61: (4, 6),\n",
       "  62: 10},\n",
       " 'get_ipython': <bound method InteractiveShell.get_ipython of <ipykernel.zmqshell.ZMQInteractiveShell object at 0x0000028A65C3A9E8>>,\n",
       " 'exit': <IPython.core.autocall.ZMQExitAutocall at 0x28a65df9dd8>,\n",
       " 'quit': <IPython.core.autocall.ZMQExitAutocall at 0x28a65df9dd8>,\n",
       " '_': 10,\n",
       " '__': (4, 6),\n",
       " '___': '100.00%',\n",
       " '_i': 'help(print)',\n",
       " '_ii': 'b[0]+b[1]',\n",
       " '_iii': 'b',\n",
       " '_i1': \"# for n in range(20):  \\n#         mod = n % 10  \\n#         print(n, '%', 10, 'is', mod)\",\n",
       " '_i2': 'map = \"to_translate\".maketrans({\"a\": \"A\", \"e\": \"E\", \"i\": \"I\", \"o\": \"O\", \"u\": \"U\"})',\n",
       " 'map': {97: 'A', 101: 'E', 105: 'I', 111: 'O', 117: 'U'},\n",
       " '_i3': 'map2 = \"to_translate\".maketrans(\"aeiou\",\"12345\")',\n",
       " 'map2': {97: 49, 101: 50, 105: 51, 111: 52, 117: 53},\n",
       " '_i4': 'map3 = \"to_translate\".maketrans(\"aeiou\",\"12345\",\"AEIOU\")',\n",
       " 'map3': {97: 49,\n",
       "  101: 50,\n",
       "  105: 51,\n",
       "  111: 52,\n",
       "  117: 53,\n",
       "  65: None,\n",
       "  69: None,\n",
       "  73: None,\n",
       "  79: None,\n",
       "  85: None},\n",
       " '_i5': 'help(str.maketrans)',\n",
       " '_i6': 'map',\n",
       " '_6': {97: 'A', 101: 'E', 105: 'I', 111: 'O', 117: 'U'},\n",
       " '_i7': 'map2',\n",
       " '_7': {97: 49, 101: 50, 105: 51, 111: 52, 117: 53},\n",
       " '_i8': 'map3',\n",
       " '_8': {97: 49,\n",
       "  101: 50,\n",
       "  105: 51,\n",
       "  111: 52,\n",
       "  117: 53,\n",
       "  65: None,\n",
       "  69: None,\n",
       "  73: None,\n",
       "  79: None,\n",
       "  85: None},\n",
       " '_i9': '\"I am on my way\".translate(map)',\n",
       " '_9': 'I Am On my wAy',\n",
       " '_i10': '\"I am on my way\".translate(map2)',\n",
       " '_10': 'I 1m 4n my w1y',\n",
       " '_i11': '\"I am on my way\".translate(map3)',\n",
       " '_11': ' 1m 4n my w1y',\n",
       " '_i12': 'map1 = str.maketrans(\"aeiou\",\"12345\")',\n",
       " 'map1': {97: 49, 101: 50, 105: 51, 111: 52, 117: 53},\n",
       " '_i13': 'map1',\n",
       " '_13': {97: 49, 101: 50, 105: 51, 111: 52, 117: 53},\n",
       " '_i14': 'b = (\"How are you\\\\n\"\\n\"Brother\\\\n\"\\n\"I will need you\\\\n\")',\n",
       " 'b': (4, 6),\n",
       " '_i15': 'b.splitlines(4)',\n",
       " '_15': ['How are you\\n', 'Brother\\n', 'I will need you\\n'],\n",
       " '_i16': 'help(str.splitlines)',\n",
       " '_i17': 'b.split(\"\\\\n\")',\n",
       " '_17': ['How are you', 'Brother', 'I will need you', ''],\n",
       " '_i18': 'b.split(\"\\\\n\",3)',\n",
       " '_18': ['How are you', 'Brother', 'I will need you', ''],\n",
       " '_i19': 'b.split(\"\\\\n\",1)',\n",
       " '_19': ['How are you', 'Brother\\nI will need you\\n'],\n",
       " '_i20': 'help(str.partition)',\n",
       " '_i21': '\"ABCDE\".partition(\"B\")',\n",
       " '_21': ('A', 'B', 'CDE'),\n",
       " '_i22': '\"ABCDE\".partition(\"ABCB\")',\n",
       " '_22': ('ABCDE', '', ''),\n",
       " '_i23': '\"ABCDE\".partition(\"ABCDE\")',\n",
       " '_23': ('', 'ABCDE', ''),\n",
       " '_i24': '\"ABCDE\".partition(\"XXXXX\")',\n",
       " '_24': ('ABCDE', '', ''),\n",
       " '_i25': '\"ABCDE\".replace(\"B\",\"X\",0)',\n",
       " '_25': 'ABCDE',\n",
       " '_i26': '\"ABCDE\".replace(\"B\",\"X\",10)',\n",
       " '_26': 'AXCDE',\n",
       " '_i27': '\"ABCDE\".replace(\"B\",\"X\",-1)',\n",
       " '_27': 'AXCDE',\n",
       " '_i28': '\"ABBBBBBBBBBBBBBBBBBBCDE\".replace(\"B\",\"X\",0)',\n",
       " '_28': 'ABBBBBBBBBBBBBBBBBBBCDE',\n",
       " '_i29': '\"ABBBBBBBBBBBBBBBBBBBCDE\".replace(\"B\",\"X\",-1)',\n",
       " '_29': 'AXXXXXXXXXXXXXXXXXXXCDE',\n",
       " '_i30': '\"ABBBBBBBBBBBBBBBBBBBCDE\".split(\"B\",0)',\n",
       " '_30': ['ABBBBBBBBBBBBBBBBBBBCDE'],\n",
       " '_i31': '\"ABBBBBBBBBBBBBBBBBBBCDE\".split(\"B\",-1)',\n",
       " '_31': ['A',\n",
       "  '',\n",
       "  '',\n",
       "  '',\n",
       "  '',\n",
       "  '',\n",
       "  '',\n",
       "  '',\n",
       "  '',\n",
       "  '',\n",
       "  '',\n",
       "  '',\n",
       "  '',\n",
       "  '',\n",
       "  '',\n",
       "  '',\n",
       "  '',\n",
       "  '',\n",
       "  '',\n",
       "  'CDE'],\n",
       " '_i32': '\"ABBBBBBBBBBBBBBBBBBBCDE\".split(\"B\",5)',\n",
       " '_32': ['A', '', '', '', '', 'BBBBBBBBBBBBBBCDE'],\n",
       " '_i33': '\"ABBBBBBBBBBBBBBBBBBBCDE\".split(\"B\",-2)',\n",
       " '_33': ['A',\n",
       "  '',\n",
       "  '',\n",
       "  '',\n",
       "  '',\n",
       "  '',\n",
       "  '',\n",
       "  '',\n",
       "  '',\n",
       "  '',\n",
       "  '',\n",
       "  '',\n",
       "  '',\n",
       "  '',\n",
       "  '',\n",
       "  '',\n",
       "  '',\n",
       "  '',\n",
       "  '',\n",
       "  'CDE'],\n",
       " '_i34': '\"ABBBBBBBBBBBBBBBBBBBCDE\".split(\"B\",-10)',\n",
       " '_34': ['A',\n",
       "  '',\n",
       "  '',\n",
       "  '',\n",
       "  '',\n",
       "  '',\n",
       "  '',\n",
       "  '',\n",
       "  '',\n",
       "  '',\n",
       "  '',\n",
       "  '',\n",
       "  '',\n",
       "  '',\n",
       "  '',\n",
       "  '',\n",
       "  '',\n",
       "  '',\n",
       "  '',\n",
       "  'CDE'],\n",
       " '_i35': '\"Hello65026240world\".title()',\n",
       " '_35': 'Hello65026240World',\n",
       " '_i36': '\"HELLO6!@#$$%%%%^&********()-=5026240world\".title()',\n",
       " '_36': 'Hello6!@#$$%%%%^&********()-=5026240World',\n",
       " '_i37': '\"                Hello650             26240world                       \".strip()',\n",
       " '_37': 'Hello650             26240world',\n",
       " '_i38': '\"Hello65026240world\".strip(\"H\")',\n",
       " '_38': 'ello65026240world',\n",
       " '_i39': '\"llllllllHello65026240worldlllllllllllll\".rstrip(\"l\")',\n",
       " '_39': 'llllllllHello65026240world',\n",
       " '_i40': '\"llllllllHello65026240worldlllllllllllll\".find(\"l\")',\n",
       " '_40': 0,\n",
       " '_i41': '\"llllllllHello65026240worldlllllllllllll\".find(\"f\")',\n",
       " '_41': -1,\n",
       " '_i42': 'len(\"llllllllHello65026240worldlllllllllllll\")',\n",
       " '_42': 39,\n",
       " '_i43': 's = \"Hello\"',\n",
       " 's': <module 'string' from 'C:\\\\Users\\\\Haseeb\\\\Anaconda3\\\\lib\\\\string.py'>,\n",
       " '_i44': 'print(s[1])',\n",
       " '_i45': \"s = '1' + s[1:] \",\n",
       " '_i46': 'print(s)',\n",
       " '_i47': \"print('\\\\4\\\\x3f')\",\n",
       " '_i48': 'import this',\n",
       " 'this': <module 'this' from 'C:\\\\Users\\\\Haseeb\\\\Anaconda3\\\\lib\\\\this.py'>,\n",
       " '_i49': 'import string\\nstring.ascii_lowercase + string.ascii_uppercase',\n",
       " 'string': <module 'string' from 'C:\\\\Users\\\\Haseeb\\\\Anaconda3\\\\lib\\\\string.py'>,\n",
       " '_49': 'abcdefghijklmnopqrstuvwxyzABCDEFGHIJKLMNOPQRSTUVWXYZ',\n",
       " '_i50': 'class Comedian:\\n    def __init__(self, first_name, last_name, age):\\n        self.first_name = first_name\\n        self.last_name = last_name\\n        self.age = age\\n\\n#     def __str__(self):\\n#         return f\"{self.first_name} {self.last_name} is {self.age}.\"\\n\\n    def __repr__(self):\\n        return f\"{self.first_name} {self.last_name} is {self.age}. Surprise!\"\\n\\n    \\n\\nnew_comedian = Comedian(\"Eric\", \"Idle\", \"74\")\\nf\"{new_comedian}\"\\nprint(new_comedian)',\n",
       " 'Comedian': __main__.Comedian,\n",
       " 'new_comedian': Eric Idle is 74. Surprise!,\n",
       " '_i51': 'new_comedian',\n",
       " '_51': Eric Idle is 74. Surprise!,\n",
       " '_i52': 'help(print)',\n",
       " '_i53': \"help('FORMATTING')\",\n",
       " '_i54': 'print(f\"How are you {1:=+09.2f}\")',\n",
       " '_i55': 'print(\"{:+f} {:5f}\".format(12.23, -12.23))\\nprint(\" {:f} {:f}\".format(12.23, -12.23))',\n",
       " '_i56': 'f\"{\\'Catterpillar\\':>6.3}\"',\n",
       " '_56': '   Cat',\n",
       " '_i57': 'import string as s\\nf\"{s.ascii_letters:@^63}\"',\n",
       " '_57': '@@@@@abcdefghijklmnopqrstuvwxyzABCDEFGHIJKLMNOPQRSTUVWXYZ@@@@@@',\n",
       " '_i58': '\"{:0=+9.3f}\".format(2+2)',\n",
       " '_58': '+0004.000',\n",
       " '_i59': 'f\"{1:=>4.2%}\"',\n",
       " '_59': '100.00%',\n",
       " '_i60': 'b = 4,6',\n",
       " '_i61': 'b',\n",
       " '_61': (4, 6),\n",
       " '_i62': 'b[0]+b[1]',\n",
       " '_62': 10,\n",
       " '_i63': 'help(print)',\n",
       " '_i64': 'locals()'}"
      ]
     },
     "execution_count": 64,
     "metadata": {},
     "output_type": "execute_result"
    }
   ],
   "source": [
    "locals()"
   ]
  },
  {
   "cell_type": "code",
   "execution_count": 65,
   "metadata": {},
   "outputs": [
    {
     "data": {
      "text/plain": [
       "'\"Hello65026240world\".strip(\"H\")'"
      ]
     },
     "execution_count": 65,
     "metadata": {},
     "output_type": "execute_result"
    }
   ],
   "source": [
    "_i38"
   ]
  },
  {
   "cell_type": "code",
   "execution_count": 66,
   "metadata": {},
   "outputs": [],
   "source": [
    "b = \"how are you today\\n\"\\\n",
    "\"I am fine\""
   ]
  },
  {
   "cell_type": "code",
   "execution_count": 67,
   "metadata": {},
   "outputs": [
    {
     "data": {
      "text/plain": [
       "'how are you today\\nI am fine'"
      ]
     },
     "execution_count": 67,
     "metadata": {},
     "output_type": "execute_result"
    }
   ],
   "source": [
    "b"
   ]
  },
  {
   "cell_type": "code",
   "execution_count": 68,
   "metadata": {},
   "outputs": [
    {
     "ename": "SyntaxError",
     "evalue": "invalid syntax (<ipython-input-68-8e5bce8fe372>, line 1)",
     "output_type": "error",
     "traceback": [
      "\u001b[1;36m  File \u001b[1;32m\"<ipython-input-68-8e5bce8fe372>\"\u001b[1;36m, line \u001b[1;32m1\u001b[0m\n\u001b[1;33m    **locals()\u001b[0m\n\u001b[1;37m     ^\u001b[0m\n\u001b[1;31mSyntaxError\u001b[0m\u001b[1;31m:\u001b[0m invalid syntax\n"
     ]
    }
   ],
   "source": [
    "**locals()"
   ]
  },
  {
   "cell_type": "code",
   "execution_count": 74,
   "metadata": {},
   "outputs": [
    {
     "data": {
      "text/plain": [
       "'000Hi man.'"
      ]
     },
     "execution_count": 74,
     "metadata": {},
     "output_type": "execute_result"
    }
   ],
   "source": [
    "\"Hi man.\".rjust(10,\"0\")"
   ]
  },
  {
   "cell_type": "code",
   "execution_count": 75,
   "metadata": {},
   "outputs": [
    {
     "name": "stdout",
     "output_type": "stream",
     "text": [
      "Help on built-in function format in module builtins:\n",
      "\n",
      "format(value, format_spec='', /)\n",
      "    Return value.__format__(format_spec)\n",
      "    \n",
      "    format_spec defaults to the empty string.\n",
      "    See the Format Specification Mini-Language section of help('FORMATTING') for\n",
      "    details.\n",
      "\n"
     ]
    }
   ],
   "source": [
    "help(format)"
   ]
  },
  {
   "cell_type": "markdown",
   "metadata": {},
   "source": []
  },
  {
   "cell_type": "code",
   "execution_count": 77,
   "metadata": {},
   "outputs": [
    {
     "name": "stdout",
     "output_type": "stream",
     "text": [
      "Format String Syntax\n",
      "********************\n",
      "\n",
      "The \"str.format()\" method and the \"Formatter\" class share the same\n",
      "syntax for format strings (although in the case of \"Formatter\",\n",
      "subclasses can define their own format string syntax).  The syntax is\n",
      "related to that of formatted string literals, but there are\n",
      "differences.\n",
      "\n",
      "Format strings contain “replacement fields” surrounded by curly braces\n",
      "\"{}\". Anything that is not contained in braces is considered literal\n",
      "text, which is copied unchanged to the output.  If you need to include\n",
      "a brace character in the literal text, it can be escaped by doubling:\n",
      "\"{{\" and \"}}\".\n",
      "\n",
      "The grammar for a replacement field is as follows:\n",
      "\n",
      "      replacement_field ::= \"{\" [field_name] [\"!\" conversion] [\":\" format_spec] \"}\"\n",
      "      field_name        ::= arg_name (\".\" attribute_name | \"[\" element_index \"]\")*\n",
      "      arg_name          ::= [identifier | digit+]\n",
      "      attribute_name    ::= identifier\n",
      "      element_index     ::= digit+ | index_string\n",
      "      index_string      ::= <any source character except \"]\"> +\n",
      "      conversion        ::= \"r\" | \"s\" | \"a\"\n",
      "      format_spec       ::= <described in the next section>\n",
      "\n",
      "In less formal terms, the replacement field can start with a\n",
      "*field_name* that specifies the object whose value is to be formatted\n",
      "and inserted into the output instead of the replacement field. The\n",
      "*field_name* is optionally followed by a  *conversion* field, which is\n",
      "preceded by an exclamation point \"'!'\", and a *format_spec*, which is\n",
      "preceded by a colon \"':'\".  These specify a non-default format for the\n",
      "replacement value.\n",
      "\n",
      "See also the Format Specification Mini-Language section.\n",
      "\n",
      "The *field_name* itself begins with an *arg_name* that is either a\n",
      "number or a keyword.  If it’s a number, it refers to a positional\n",
      "argument, and if it’s a keyword, it refers to a named keyword\n",
      "argument.  If the numerical arg_names in a format string are 0, 1, 2,\n",
      "… in sequence, they can all be omitted (not just some) and the numbers\n",
      "0, 1, 2, … will be automatically inserted in that order. Because\n",
      "*arg_name* is not quote-delimited, it is not possible to specify\n",
      "arbitrary dictionary keys (e.g., the strings \"'10'\" or \"':-]'\") within\n",
      "a format string. The *arg_name* can be followed by any number of index\n",
      "or attribute expressions. An expression of the form \"'.name'\" selects\n",
      "the named attribute using \"getattr()\", while an expression of the form\n",
      "\"'[index]'\" does an index lookup using \"__getitem__()\".\n",
      "\n",
      "Changed in version 3.1: The positional argument specifiers can be\n",
      "omitted for \"str.format()\", so \"'{} {}'.format(a, b)\" is equivalent to\n",
      "\"'{0} {1}'.format(a, b)\".\n",
      "\n",
      "Changed in version 3.4: The positional argument specifiers can be\n",
      "omitted for \"Formatter\".\n",
      "\n",
      "Some simple format string examples:\n",
      "\n",
      "   \"First, thou shalt count to {0}\"  # References first positional argument\n",
      "   \"Bring me a {}\"                   # Implicitly references the first positional argument\n",
      "   \"From {} to {}\"                   # Same as \"From {0} to {1}\"\n",
      "   \"My quest is {name}\"              # References keyword argument 'name'\n",
      "   \"Weight in tons {0.weight}\"       # 'weight' attribute of first positional arg\n",
      "   \"Units destroyed: {players[0]}\"   # First element of keyword argument 'players'.\n",
      "\n",
      "The *conversion* field causes a type coercion before formatting.\n",
      "Normally, the job of formatting a value is done by the \"__format__()\"\n",
      "method of the value itself.  However, in some cases it is desirable to\n",
      "force a type to be formatted as a string, overriding its own\n",
      "definition of formatting.  By converting the value to a string before\n",
      "calling \"__format__()\", the normal formatting logic is bypassed.\n",
      "\n",
      "Three conversion flags are currently supported: \"'!s'\" which calls\n",
      "\"str()\" on the value, \"'!r'\" which calls \"repr()\" and \"'!a'\" which\n",
      "calls \"ascii()\".\n",
      "\n",
      "Some examples:\n",
      "\n",
      "   \"Harold's a clever {0!s}\"        # Calls str() on the argument first\n",
      "   \"Bring out the holy {name!r}\"    # Calls repr() on the argument first\n",
      "   \"More {!a}\"                      # Calls ascii() on the argument first\n",
      "\n",
      "The *format_spec* field contains a specification of how the value\n",
      "should be presented, including such details as field width, alignment,\n",
      "padding, decimal precision and so on.  Each value type can define its\n",
      "own “formatting mini-language” or interpretation of the *format_spec*.\n",
      "\n",
      "Most built-in types support a common formatting mini-language, which\n",
      "is described in the next section.\n",
      "\n",
      "A *format_spec* field can also include nested replacement fields\n",
      "within it. These nested replacement fields may contain a field name,\n",
      "conversion flag and format specification, but deeper nesting is not\n",
      "allowed.  The replacement fields within the format_spec are\n",
      "substituted before the *format_spec* string is interpreted. This\n",
      "allows the formatting of a value to be dynamically specified.\n",
      "\n",
      "See the Format examples section for some examples.\n",
      "\n",
      "\n",
      "Format Specification Mini-Language\n",
      "==================================\n",
      "\n",
      "“Format specifications” are used within replacement fields contained\n",
      "within a format string to define how individual values are presented\n",
      "(see Format String Syntax and Formatted string literals). They can\n",
      "also be passed directly to the built-in \"format()\" function.  Each\n",
      "formattable type may define how the format specification is to be\n",
      "interpreted.\n",
      "\n",
      "Most built-in types implement the following options for format\n",
      "specifications, although some of the formatting options are only\n",
      "supported by the numeric types.\n",
      "\n",
      "A general convention is that an empty format string (\"\"\"\") produces\n",
      "the same result as if you had called \"str()\" on the value. A non-empty\n",
      "format string typically modifies the result.\n",
      "\n",
      "The general form of a *standard format specifier* is:\n",
      "\n",
      "   format_spec     ::= [[fill]align][sign][#][0][width][grouping_option][.precision][type]\n",
      "   fill            ::= <any character>\n",
      "   align           ::= \"<\" | \">\" | \"=\" | \"^\"\n",
      "   sign            ::= \"+\" | \"-\" | \" \"\n",
      "   width           ::= digit+\n",
      "   grouping_option ::= \"_\" | \",\"\n",
      "   precision       ::= digit+\n",
      "   type            ::= \"b\" | \"c\" | \"d\" | \"e\" | \"E\" | \"f\" | \"F\" | \"g\" | \"G\" | \"n\" | \"o\" | \"s\" | \"x\" | \"X\" | \"%\"\n",
      "\n",
      "If a valid *align* value is specified, it can be preceded by a *fill*\n",
      "character that can be any character and defaults to a space if\n",
      "omitted. It is not possible to use a literal curly brace (“\"{\"” or\n",
      "“\"}\"”) as the *fill* character in a formatted string literal or when\n",
      "using the \"str.format()\" method.  However, it is possible to insert a\n",
      "curly brace with a nested replacement field.  This limitation doesn’t\n",
      "affect the \"format()\" function.\n",
      "\n",
      "The meaning of the various alignment options is as follows:\n",
      "\n",
      "   +-----------+------------------------------------------------------------+\n",
      "   | Option    | Meaning                                                    |\n",
      "   +===========+============================================================+\n",
      "   | \"'<'\"     | Forces the field to be left-aligned within the available   |\n",
      "   |           | space (this is the default for most objects).              |\n",
      "   +-----------+------------------------------------------------------------+\n",
      "   | \"'>'\"     | Forces the field to be right-aligned within the available  |\n",
      "   |           | space (this is the default for numbers).                   |\n",
      "   +-----------+------------------------------------------------------------+\n",
      "   | \"'='\"     | Forces the padding to be placed after the sign (if any)    |\n",
      "   |           | but before the digits.  This is used for printing fields   |\n",
      "   |           | in the form ‘+000000120’. This alignment option is only    |\n",
      "   |           | valid for numeric types.  It becomes the default when ‘0’  |\n",
      "   |           | immediately precedes the field width.                      |\n",
      "   +-----------+------------------------------------------------------------+\n",
      "   | \"'^'\"     | Forces the field to be centered within the available       |\n",
      "   |           | space.                                                     |\n",
      "   +-----------+------------------------------------------------------------+\n",
      "\n",
      "Note that unless a minimum field width is defined, the field width\n",
      "will always be the same size as the data to fill it, so that the\n",
      "alignment option has no meaning in this case.\n",
      "\n",
      "The *sign* option is only valid for number types, and can be one of\n",
      "the following:\n",
      "\n",
      "   +-----------+------------------------------------------------------------+\n",
      "   | Option    | Meaning                                                    |\n",
      "   +===========+============================================================+\n",
      "   | \"'+'\"     | indicates that a sign should be used for both positive as  |\n",
      "   |           | well as negative numbers.                                  |\n",
      "   +-----------+------------------------------------------------------------+\n",
      "   | \"'-'\"     | indicates that a sign should be used only for negative     |\n",
      "   |           | numbers (this is the default behavior).                    |\n",
      "   +-----------+------------------------------------------------------------+\n",
      "   | space     | indicates that a leading space should be used on positive  |\n",
      "   |           | numbers, and a minus sign on negative numbers.             |\n",
      "   +-----------+------------------------------------------------------------+\n",
      "\n",
      "The \"'#'\" option causes the “alternate form” to be used for the\n",
      "conversion.  The alternate form is defined differently for different\n",
      "types.  This option is only valid for integer, float, complex and\n",
      "Decimal types. For integers, when binary, octal, or hexadecimal output\n",
      "is used, this option adds the prefix respective \"'0b'\", \"'0o'\", or\n",
      "\"'0x'\" to the output value. For floats, complex and Decimal the\n",
      "alternate form causes the result of the conversion to always contain a\n",
      "decimal-point character, even if no digits follow it. Normally, a\n",
      "decimal-point character appears in the result of these conversions\n",
      "only if a digit follows it. In addition, for \"'g'\" and \"'G'\"\n",
      "conversions, trailing zeros are not removed from the result.\n",
      "\n",
      "The \"','\" option signals the use of a comma for a thousands separator.\n",
      "For a locale aware separator, use the \"'n'\" integer presentation type\n",
      "instead.\n",
      "\n",
      "Changed in version 3.1: Added the \"','\" option (see also **PEP 378**).\n",
      "\n",
      "The \"'_'\" option signals the use of an underscore for a thousands\n",
      "separator for floating point presentation types and for integer\n",
      "presentation type \"'d'\".  For integer presentation types \"'b'\", \"'o'\",\n",
      "\"'x'\", and \"'X'\", underscores will be inserted every 4 digits.  For\n",
      "other presentation types, specifying this option is an error.\n",
      "\n",
      "Changed in version 3.6: Added the \"'_'\" option (see also **PEP 515**).\n",
      "\n",
      "*width* is a decimal integer defining the minimum field width.  If not\n",
      "specified, then the field width will be determined by the content.\n",
      "\n",
      "When no explicit alignment is given, preceding the *width* field by a\n",
      "zero (\"'0'\") character enables sign-aware zero-padding for numeric\n",
      "types.  This is equivalent to a *fill* character of \"'0'\" with an\n",
      "*alignment* type of \"'='\".\n",
      "\n",
      "The *precision* is a decimal number indicating how many digits should\n",
      "be displayed after the decimal point for a floating point value\n",
      "formatted with \"'f'\" and \"'F'\", or before and after the decimal point\n",
      "for a floating point value formatted with \"'g'\" or \"'G'\".  For non-\n",
      "number types the field indicates the maximum field size - in other\n",
      "words, how many characters will be used from the field content. The\n",
      "*precision* is not allowed for integer values.\n",
      "\n",
      "Finally, the *type* determines how the data should be presented.\n",
      "\n",
      "The available string presentation types are:\n",
      "\n",
      "   +-----------+------------------------------------------------------------+\n",
      "   | Type      | Meaning                                                    |\n",
      "   +===========+============================================================+\n",
      "   | \"'s'\"     | String format. This is the default type for strings and    |\n",
      "   |           | may be omitted.                                            |\n",
      "   +-----------+------------------------------------------------------------+\n",
      "   | None      | The same as \"'s'\".                                         |\n",
      "   +-----------+------------------------------------------------------------+\n",
      "\n",
      "The available integer presentation types are:\n",
      "\n",
      "   +-----------+------------------------------------------------------------+\n",
      "   | Type      | Meaning                                                    |\n",
      "   +===========+============================================================+\n",
      "   | \"'b'\"     | Binary format. Outputs the number in base 2.               |\n",
      "   +-----------+------------------------------------------------------------+\n",
      "   | \"'c'\"     | Character. Converts the integer to the corresponding       |\n",
      "   |           | unicode character before printing.                         |\n",
      "   +-----------+------------------------------------------------------------+\n",
      "   | \"'d'\"     | Decimal Integer. Outputs the number in base 10.            |\n",
      "   +-----------+------------------------------------------------------------+\n",
      "   | \"'o'\"     | Octal format. Outputs the number in base 8.                |\n",
      "   +-----------+------------------------------------------------------------+\n",
      "   | \"'x'\"     | Hex format. Outputs the number in base 16, using lower-    |\n",
      "   |           | case letters for the digits above 9.                       |\n",
      "   +-----------+------------------------------------------------------------+\n",
      "   | \"'X'\"     | Hex format. Outputs the number in base 16, using upper-    |\n",
      "   |           | case letters for the digits above 9.                       |\n",
      "   +-----------+------------------------------------------------------------+\n",
      "   | \"'n'\"     | Number. This is the same as \"'d'\", except that it uses the |\n",
      "   |           | current locale setting to insert the appropriate number    |\n",
      "   |           | separator characters.                                      |\n",
      "   +-----------+------------------------------------------------------------+\n",
      "   | None      | The same as \"'d'\".                                         |\n",
      "   +-----------+------------------------------------------------------------+\n",
      "\n",
      "In addition to the above presentation types, integers can be formatted\n",
      "with the floating point presentation types listed below (except \"'n'\"\n",
      "and \"None\"). When doing so, \"float()\" is used to convert the integer\n",
      "to a floating point number before formatting.\n",
      "\n",
      "The available presentation types for floating point and decimal values\n",
      "are:\n",
      "\n",
      "   +-----------+------------------------------------------------------------+\n",
      "   | Type      | Meaning                                                    |\n",
      "   +===========+============================================================+\n",
      "   | \"'e'\"     | Exponent notation. Prints the number in scientific         |\n",
      "   |           | notation using the letter ‘e’ to indicate the exponent.    |\n",
      "   |           | The default precision is \"6\".                              |\n",
      "   +-----------+------------------------------------------------------------+\n",
      "   | \"'E'\"     | Exponent notation. Same as \"'e'\" except it uses an upper   |\n",
      "   |           | case ‘E’ as the separator character.                       |\n",
      "   +-----------+------------------------------------------------------------+\n",
      "   | \"'f'\"     | Fixed-point notation. Displays the number as a fixed-point |\n",
      "   |           | number. The default precision is \"6\".                      |\n",
      "   +-----------+------------------------------------------------------------+\n",
      "   | \"'F'\"     | Fixed-point notation. Same as \"'f'\", but converts \"nan\" to |\n",
      "   |           | \"NAN\" and \"inf\" to \"INF\".                                  |\n",
      "   +-----------+------------------------------------------------------------+\n",
      "   | \"'g'\"     | General format.  For a given precision \"p >= 1\", this      |\n",
      "   |           | rounds the number to \"p\" significant digits and then       |\n",
      "   |           | formats the result in either fixed-point format or in      |\n",
      "   |           | scientific notation, depending on its magnitude.  The      |\n",
      "   |           | precise rules are as follows: suppose that the result      |\n",
      "   |           | formatted with presentation type \"'e'\" and precision \"p-1\" |\n",
      "   |           | would have exponent \"exp\".  Then if \"-4 <= exp < p\", the   |\n",
      "   |           | number is formatted with presentation type \"'f'\" and       |\n",
      "   |           | precision \"p-1-exp\".  Otherwise, the number is formatted   |\n",
      "   |           | with presentation type \"'e'\" and precision \"p-1\". In both  |\n",
      "   |           | cases insignificant trailing zeros are removed from the    |\n",
      "   |           | significand, and the decimal point is also removed if      |\n",
      "   |           | there are no remaining digits following it.  Positive and  |\n",
      "   |           | negative infinity, positive and negative zero, and nans,   |\n",
      "   |           | are formatted as \"inf\", \"-inf\", \"0\", \"-0\" and \"nan\"        |\n",
      "   |           | respectively, regardless of the precision.  A precision of |\n",
      "   |           | \"0\" is treated as equivalent to a precision of \"1\". The    |\n",
      "   |           | default precision is \"6\".                                  |\n",
      "   +-----------+------------------------------------------------------------+\n",
      "   | \"'G'\"     | General format. Same as \"'g'\" except switches to \"'E'\" if  |\n",
      "   |           | the number gets too large. The representations of infinity |\n",
      "   |           | and NaN are uppercased, too.                               |\n",
      "   +-----------+------------------------------------------------------------+\n",
      "   | \"'n'\"     | Number. This is the same as \"'g'\", except that it uses the |\n",
      "   |           | current locale setting to insert the appropriate number    |\n",
      "   |           | separator characters.                                      |\n",
      "   +-----------+------------------------------------------------------------+\n",
      "   | \"'%'\"     | Percentage. Multiplies the number by 100 and displays in   |\n",
      "   |           | fixed (\"'f'\") format, followed by a percent sign.          |\n",
      "   +-----------+------------------------------------------------------------+\n",
      "   | None      | Similar to \"'g'\", except that fixed-point notation, when   |\n",
      "   |           | used, has at least one digit past the decimal point. The   |\n",
      "   |           | default precision is as high as needed to represent the    |\n",
      "   |           | particular value. The overall effect is to match the       |\n",
      "   |           | output of \"str()\" as altered by the other format           |\n",
      "   |           | modifiers.                                                 |\n",
      "   +-----------+------------------------------------------------------------+\n",
      "\n",
      "\n",
      "Format examples\n",
      "===============\n",
      "\n",
      "This section contains examples of the \"str.format()\" syntax and\n",
      "comparison with the old \"%\"-formatting.\n",
      "\n",
      "In most of the cases the syntax is similar to the old \"%\"-formatting,\n",
      "with the addition of the \"{}\" and with \":\" used instead of \"%\". For\n",
      "example, \"'%03.2f'\" can be translated to \"'{:03.2f}'\".\n",
      "\n",
      "The new format syntax also supports new and different options, shown\n",
      "in the following examples.\n",
      "\n",
      "Accessing arguments by position:\n",
      "\n",
      "   >>> '{0}, {1}, {2}'.format('a', 'b', 'c')\n",
      "   'a, b, c'\n",
      "   >>> '{}, {}, {}'.format('a', 'b', 'c')  # 3.1+ only\n",
      "   'a, b, c'\n",
      "   >>> '{2}, {1}, {0}'.format('a', 'b', 'c')\n",
      "   'c, b, a'\n",
      "   >>> '{2}, {1}, {0}'.format(*'abc')      # unpacking argument sequence\n",
      "   'c, b, a'\n",
      "   >>> '{0}{1}{0}'.format('abra', 'cad')   # arguments' indices can be repeated\n",
      "   'abracadabra'\n",
      "\n",
      "Accessing arguments by name:\n",
      "\n",
      "   >>> 'Coordinates: {latitude}, {longitude}'.format(latitude='37.24N', longitude='-115.81W')\n",
      "   'Coordinates: 37.24N, -115.81W'\n",
      "   >>> coord = {'latitude': '37.24N', 'longitude': '-115.81W'}\n",
      "   >>> 'Coordinates: {latitude}, {longitude}'.format(**coord)\n",
      "   'Coordinates: 37.24N, -115.81W'\n",
      "\n",
      "Accessing arguments’ attributes:\n",
      "\n",
      "   >>> c = 3-5j\n",
      "   >>> ('The complex number {0} is formed from the real part {0.real} '\n",
      "   ...  'and the imaginary part {0.imag}.').format(c)\n",
      "   'The complex number (3-5j) is formed from the real part 3.0 and the imaginary part -5.0.'\n",
      "   >>> class Point:\n",
      "   ...     def __init__(self, x, y):\n",
      "   ...         self.x, self.y = x, y\n",
      "   ...     def __str__(self):\n",
      "   ...         return 'Point({self.x}, {self.y})'.format(self=self)\n",
      "   ...\n",
      "   >>> str(Point(4, 2))\n",
      "   'Point(4, 2)'\n",
      "\n",
      "Accessing arguments’ items:\n",
      "\n",
      "   >>> coord = (3, 5)\n",
      "   >>> 'X: {0[0]};  Y: {0[1]}'.format(coord)\n",
      "   'X: 3;  Y: 5'\n",
      "\n",
      "Replacing \"%s\" and \"%r\":\n",
      "\n",
      "   >>> \"repr() shows quotes: {!r}; str() doesn't: {!s}\".format('test1', 'test2')\n",
      "   \"repr() shows quotes: 'test1'; str() doesn't: test2\"\n",
      "\n",
      "Aligning the text and specifying a width:\n",
      "\n",
      "   >>> '{:<30}'.format('left aligned')\n",
      "   'left aligned                  '\n",
      "   >>> '{:>30}'.format('right aligned')\n",
      "   '                 right aligned'\n",
      "   >>> '{:^30}'.format('centered')\n",
      "   '           centered           '\n",
      "   >>> '{:*^30}'.format('centered')  # use '*' as a fill char\n",
      "   '***********centered***********'\n",
      "\n",
      "Replacing \"%+f\", \"%-f\", and \"% f\" and specifying a sign:\n",
      "\n",
      "   >>> '{:+f}; {:+f}'.format(3.14, -3.14)  # show it always\n",
      "   '+3.140000; -3.140000'\n",
      "   >>> '{: f}; {: f}'.format(3.14, -3.14)  # show a space for positive numbers\n",
      "   ' 3.140000; -3.140000'\n",
      "   >>> '{:-f}; {:-f}'.format(3.14, -3.14)  # show only the minus -- same as '{:f}; {:f}'\n",
      "   '3.140000; -3.140000'\n",
      "\n",
      "Replacing \"%x\" and \"%o\" and converting the value to different bases:\n",
      "\n",
      "   >>> # format also supports binary numbers\n",
      "   >>> \"int: {0:d};  hex: {0:x};  oct: {0:o};  bin: {0:b}\".format(42)\n",
      "   'int: 42;  hex: 2a;  oct: 52;  bin: 101010'\n",
      "   >>> # with 0x, 0o, or 0b as prefix:\n",
      "   >>> \"int: {0:d};  hex: {0:#x};  oct: {0:#o};  bin: {0:#b}\".format(42)\n",
      "   'int: 42;  hex: 0x2a;  oct: 0o52;  bin: 0b101010'\n",
      "\n",
      "Using the comma as a thousands separator:\n",
      "\n",
      "   >>> '{:,}'.format(1234567890)\n",
      "   '1,234,567,890'\n",
      "\n",
      "Expressing a percentage:\n",
      "\n",
      "   >>> points = 19\n",
      "   >>> total = 22\n",
      "   >>> 'Correct answers: {:.2%}'.format(points/total)\n",
      "   'Correct answers: 86.36%'\n",
      "\n",
      "Using type-specific formatting:\n",
      "\n",
      "   >>> import datetime\n",
      "   >>> d = datetime.datetime(2010, 7, 4, 12, 15, 58)\n",
      "   >>> '{:%Y-%m-%d %H:%M:%S}'.format(d)\n",
      "   '2010-07-04 12:15:58'\n",
      "\n",
      "Nesting arguments and more complex examples:\n",
      "\n",
      "   >>> for align, text in zip('<^>', ['left', 'center', 'right']):\n",
      "   ...     '{0:{fill}{align}16}'.format(text, fill=align, align=align)\n",
      "   ...\n",
      "   'left<<<<<<<<<<<<'\n",
      "   '^^^^^center^^^^^'\n",
      "   '>>>>>>>>>>>right'\n",
      "   >>>\n",
      "   >>> octets = [192, 168, 0, 1]\n",
      "   >>> '{:02X}{:02X}{:02X}{:02X}'.format(*octets)\n",
      "   'C0A80001'\n",
      "   >>> int(_, 16)\n",
      "   3232235521\n",
      "   >>>\n",
      "   >>> width = 5\n",
      "   >>> for num in range(5,12): \n",
      "   ...     for base in 'dXob':\n",
      "   ...         print('{0:{width}{base}}'.format(num, base=base, width=width), end=' ')\n",
      "   ...     print()\n",
      "   ...\n",
      "       5     5     5   101\n",
      "       6     6     6   110\n",
      "       7     7     7   111\n",
      "       8     8    10  1000\n",
      "       9     9    11  1001\n",
      "      10     A    12  1010\n",
      "      11     B    13  1011\n",
      "\n",
      "Related help topics: OPERATORS\n",
      "\n"
     ]
    }
   ],
   "source": [
    "help('FORMATTING')\n"
   ]
  },
  {
   "cell_type": "code",
   "execution_count": 79,
   "metadata": {},
   "outputs": [],
   "source": [
    "s = \"hi\""
   ]
  },
  {
   "cell_type": "code",
   "execution_count": 80,
   "metadata": {},
   "outputs": [
    {
     "data": {
      "text/plain": [
       "2"
      ]
     },
     "execution_count": 80,
     "metadata": {},
     "output_type": "execute_result"
    }
   ],
   "source": [
    "len(s)"
   ]
  },
  {
   "cell_type": "code",
   "execution_count": 82,
   "metadata": {},
   "outputs": [
    {
     "data": {
      "text/plain": [
       "2"
      ]
     },
     "execution_count": 82,
     "metadata": {},
     "output_type": "execute_result"
    }
   ],
   "source": [
    "s.__len__()\n"
   ]
  },
  {
   "cell_type": "code",
   "execution_count": 83,
   "metadata": {},
   "outputs": [],
   "source": [
    "s1 = \"Hi\""
   ]
  },
  {
   "cell_type": "code",
   "execution_count": 96,
   "metadata": {},
   "outputs": [],
   "source": [
    "s2 = \"Hi there\""
   ]
  },
  {
   "cell_type": "code",
   "execution_count": 97,
   "metadata": {},
   "outputs": [
    {
     "data": {
      "text/plain": [
       "True"
      ]
     },
     "execution_count": 97,
     "metadata": {},
     "output_type": "execute_result"
    }
   ],
   "source": [
    "s1 in s2"
   ]
  },
  {
   "cell_type": "code",
   "execution_count": 100,
   "metadata": {},
   "outputs": [],
   "source": [
    "i = 5\n",
    "j = 3"
   ]
  },
  {
   "cell_type": "code",
   "execution_count": 101,
   "metadata": {},
   "outputs": [
    {
     "data": {
      "text/plain": [
       "8"
      ]
     },
     "execution_count": 101,
     "metadata": {},
     "output_type": "execute_result"
    }
   ],
   "source": [
    "# i+j\n",
    "i.__add__(j)"
   ]
  },
  {
   "cell_type": "code",
   "execution_count": 105,
   "metadata": {},
   "outputs": [
    {
     "name": "stdout",
     "output_type": "stream",
     "text": [
      "Foo.txt\n"
     ]
    }
   ],
   "source": [
    "with open(\"Foo.txt\",\"w\") as foo:\n",
    "    print (foo.name)"
   ]
  },
  {
   "cell_type": "code",
   "execution_count": null,
   "metadata": {},
   "outputs": [],
   "source": []
  }
 ],
 "metadata": {
  "kernelspec": {
   "display_name": "Python 3",
   "language": "python",
   "name": "python3"
  },
  "language_info": {
   "codemirror_mode": {
    "name": "ipython",
    "version": 3
   },
   "file_extension": ".py",
   "mimetype": "text/x-python",
   "name": "python",
   "nbconvert_exporter": "python",
   "pygments_lexer": "ipython3",
   "version": "3.7.3"
  }
 },
 "nbformat": 4,
 "nbformat_minor": 2
}
