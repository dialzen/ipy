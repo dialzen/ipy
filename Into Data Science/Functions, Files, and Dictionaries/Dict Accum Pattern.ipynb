{
 "cells": [
  {
   "cell_type": "code",
   "execution_count": 14,
   "metadata": {},
   "outputs": [],
   "source": [
    "def most_repeated_letter(st):\n",
    "    return best_key(freq_finder(st))    \n",
    "\n",
    "def freq_finder(string):\n",
    "    d = {}\n",
    "    for letter in string:\n",
    "        if letter in d:\n",
    "            d[letter] = d[letter] + 1\n",
    "        else:\n",
    "            d[letter] = 0\n",
    "    return d\n",
    "\n",
    "def best_key(diction):\n",
    "    return list(diction.keys())[list(diction.values()).index(max(list(diction.values())))] \n"
   ]
  },
  {
   "cell_type": "code",
   "execution_count": 15,
   "metadata": {},
   "outputs": [
    {
     "name": "stdout",
     "output_type": "stream",
     "text": [
      "a\n"
     ]
    }
   ],
   "source": [
    "print(most_repeated_letter(\"aaaaaaaaaaaaaabbbcccccccccccccc\"))"
   ]
  },
  {
   "cell_type": "code",
   "execution_count": null,
   "metadata": {},
   "outputs": [],
   "source": []
  }
 ],
 "metadata": {
  "kernelspec": {
   "display_name": "Python 3",
   "language": "python",
   "name": "python3"
  },
  "language_info": {
   "codemirror_mode": {
    "name": "ipython",
    "version": 3
   },
   "file_extension": ".py",
   "mimetype": "text/x-python",
   "name": "python",
   "nbconvert_exporter": "python",
   "pygments_lexer": "ipython3",
   "version": "3.7.3"
  }
 },
 "nbformat": 4,
 "nbformat_minor": 4
}
