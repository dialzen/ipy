{
 "cells": [
  {
   "cell_type": "markdown",
   "metadata": {
    "Collapsed": "false"
   },
   "source": [
    "# Reuters Datset "
   ]
  },
  {
   "cell_type": "code",
   "execution_count": null,
   "metadata": {
    "Collapsed": "false"
   },
   "outputs": [],
   "source": []
  },
  {
   "cell_type": "code",
   "execution_count": null,
   "metadata": {
    "Collapsed": "false"
   },
   "outputs": [],
   "source": []
  },
  {
   "cell_type": "code",
   "execution_count": 22,
   "metadata": {
    "Collapsed": "false"
   },
   "outputs": [],
   "source": [
    "import tensorflow as tf\n",
    "import numpy as np\n",
    "import matplotlib.pyplot as plt\n",
    "import pandas as pd"
   ]
  },
  {
   "cell_type": "code",
   "execution_count": 23,
   "metadata": {
    "Collapsed": "false"
   },
   "outputs": [],
   "source": [
    "(x_train,y_train),(x_test,y_test) = tf.keras.datasets.reuters.load_data()"
   ]
  },
  {
   "cell_type": "code",
   "execution_count": 24,
   "metadata": {
    "Collapsed": "false"
   },
   "outputs": [],
   "source": [
    "word_index = tf.keras.datasets.reuters.get_word_index()"
   ]
  },
  {
   "cell_type": "code",
   "execution_count": null,
   "metadata": {
    "Collapsed": "false"
   },
   "outputs": [],
   "source": []
  },
  {
   "cell_type": "code",
   "execution_count": 25,
   "metadata": {
    "Collapsed": "false"
   },
   "outputs": [],
   "source": [
    "rev_index = dict([(v,k) for (k,v) in word_index.items()])"
   ]
  },
  {
   "cell_type": "code",
   "execution_count": null,
   "metadata": {
    "Collapsed": "false"
   },
   "outputs": [],
   "source": []
  },
  {
   "cell_type": "code",
   "execution_count": 26,
   "metadata": {
    "Collapsed": "false"
   },
   "outputs": [
    {
     "data": {
      "text/plain": [
       "30979"
      ]
     },
     "execution_count": 26,
     "metadata": {},
     "output_type": "execute_result"
    }
   ],
   "source": [
    "len(rev_index)"
   ]
  },
  {
   "cell_type": "code",
   "execution_count": 31,
   "metadata": {
    "Collapsed": "false"
   },
   "outputs": [],
   "source": [
    "def vectorize(wires, dimensions=30982):\n",
    "    result = np.zeros((len(wires), dimensions))\n",
    "    for i,wire in enumerate(wires):\n",
    "        result[i,wire] = 1\n",
    "    return result"
   ]
  },
  {
   "cell_type": "code",
   "execution_count": 32,
   "metadata": {
    "Collapsed": "false"
   },
   "outputs": [],
   "source": [
    "x_train = vectorize(x_train)\n",
    "x_test = vectorize(x_test)"
   ]
  },
  {
   "cell_type": "code",
   "execution_count": 33,
   "metadata": {
    "Collapsed": "false"
   },
   "outputs": [],
   "source": [
    "model = tf.keras.models.Sequential()"
   ]
  },
  {
   "cell_type": "code",
   "execution_count": 44,
   "metadata": {
    "Collapsed": "false"
   },
   "outputs": [],
   "source": [
    "model.add(tf.keras.layers.Dense(64,\"relu\", input_shape=(30982,)))"
   ]
  },
  {
   "cell_type": "code",
   "execution_count": 45,
   "metadata": {
    "Collapsed": "false"
   },
   "outputs": [],
   "source": [
    "model.add(tf.keras.layers.Dense(64,\"relu\",))"
   ]
  },
  {
   "cell_type": "code",
   "execution_count": 34,
   "metadata": {
    "Collapsed": "false"
   },
   "outputs": [],
   "source": [
    "model.add(tf.keras.layers.Dense(46,\"softmax\",))"
   ]
  },
  {
   "cell_type": "code",
   "execution_count": 35,
   "metadata": {
    "Collapsed": "false"
   },
   "outputs": [],
   "source": [
    "model.compile(optimizer=\"rmsprop\",loss=\"categorical_crossentropy\",metrics=[\"accuracy\"])"
   ]
  },
  {
   "cell_type": "code",
   "execution_count": 36,
   "metadata": {
    "Collapsed": "false"
   },
   "outputs": [],
   "source": [
    "y_train = tf.keras.utils.to_categorical(y_train)\n"
   ]
  },
  {
   "cell_type": "code",
   "execution_count": 37,
   "metadata": {
    "Collapsed": "false"
   },
   "outputs": [],
   "source": [
    "y_test = tf.keras.utils.to_categorical(y_test)"
   ]
  },
  {
   "cell_type": "code",
   "execution_count": 38,
   "metadata": {
    "Collapsed": "false"
   },
   "outputs": [
    {
     "name": "stdout",
     "output_type": "stream",
     "text": [
      "[[0. 1. 0. ... 0. 0. 0.]\n",
      " [0. 1. 0. ... 0. 0. 0.]\n",
      " [0. 1. 0. ... 0. 0. 0.]\n",
      " ...\n",
      " [0. 1. 0. ... 0. 0. 0.]\n",
      " [0. 1. 0. ... 0. 0. 0.]\n",
      " [0. 1. 0. ... 0. 0. 0.]]\n"
     ]
    }
   ],
   "source": [
    "print(x_train)"
   ]
  },
  {
   "cell_type": "code",
   "execution_count": 40,
   "metadata": {
    "Collapsed": "false"
   },
   "outputs": [
    {
     "name": "stdout",
     "output_type": "stream",
     "text": [
      "Train on 8982 samples\n",
      "Epoch 1/9\n",
      "8982/8982 [==============================] - 24s 3ms/sample - loss: 0.6646 - accuracy: 0.8660\n",
      "Epoch 2/9\n",
      "8982/8982 [==============================] - 5s 533us/sample - loss: 0.5269 - accuracy: 0.8947\n",
      "Epoch 3/9\n",
      "8982/8982 [==============================] - 4s 495us/sample - loss: 0.4369 - accuracy: 0.9126\n",
      "Epoch 4/9\n",
      "8982/8982 [==============================] - 4s 492us/sample - loss: 0.3734 - accuracy: 0.9238\n",
      "Epoch 5/9\n",
      "8982/8982 [==============================] - 5s 543us/sample - loss: 0.3283 - accuracy: 0.9313\n",
      "Epoch 6/9\n",
      "8982/8982 [==============================] - 5s 547us/sample - loss: 0.2918 - accuracy: 0.9380\n",
      "Epoch 7/9\n",
      "8982/8982 [==============================] - 5s 503us/sample - loss: 0.2637 - accuracy: 0.9413\n",
      "Epoch 8/9\n",
      "8982/8982 [==============================] - 4s 483us/sample - loss: 0.2416 - accuracy: 0.9457\n",
      "Epoch 9/9\n",
      "8982/8982 [==============================] - 4s 482us/sample - loss: 0.2229 - accuracy: 0.9471\n"
     ]
    }
   ],
   "source": [
    "history = model.fit(x_train,y_train,epochs=9, batch_size=128)"
   ]
  },
  {
   "cell_type": "code",
   "execution_count": 41,
   "metadata": {
    "Collapsed": "false"
   },
   "outputs": [],
   "source": [
    "history_dict = history.history"
   ]
  },
  {
   "cell_type": "code",
   "execution_count": 42,
   "metadata": {
    "Collapsed": "false"
   },
   "outputs": [
    {
     "name": "stdout",
     "output_type": "stream",
     "text": [
      "2246/2246 [==============================] - 33s 14ms/sample - loss: 1.1090 - accuracy: 0.7894\n"
     ]
    },
    {
     "data": {
      "text/plain": [
       "[1.1089533644919936, 0.7894034]"
      ]
     },
     "execution_count": 42,
     "metadata": {},
     "output_type": "execute_result"
    }
   ],
   "source": [
    "model.evaluate(x_test,y_test)"
   ]
  },
  {
   "cell_type": "code",
   "execution_count": 45,
   "metadata": {
    "Collapsed": "false"
   },
   "outputs": [],
   "source": [
    "(x_train,y_train),(x_test,y_test) = tf.keras.datasets.reuters.load_data()"
   ]
  },
  {
   "cell_type": "code",
   "execution_count": 48,
   "metadata": {
    "Collapsed": "false"
   },
   "outputs": [
    {
     "data": {
      "text/plain": [
       "\"? generale de banque sa lt genb br and lt heller overseas corp of chicago have each taken 50 pct stakes in factoring company sa belgo factors generale de banque said in a statement it gave no financial details of the transaction sa belgo factors' turnover in 1986 was 17 5 billion belgian francs reuter 3\""
      ]
     },
     "execution_count": 48,
     "metadata": {},
     "output_type": "execute_result"
    }
   ],
   "source": [
    "\" \".join(rev_index.get(i-3,\"?\") for i in x_train[1])"
   ]
  },
  {
   "cell_type": "code",
   "execution_count": 50,
   "metadata": {
    "Collapsed": "false"
   },
   "outputs": [
    {
     "data": {
      "text/plain": [
       "3"
      ]
     },
     "execution_count": 50,
     "metadata": {},
     "output_type": "execute_result"
    }
   ],
   "source": [
    "y_train[0]"
   ]
  },
  {
   "cell_type": "code",
   "execution_count": 60,
   "metadata": {
    "Collapsed": "false"
   },
   "outputs": [],
   "source": [
    "def code(wire):\n",
    "    return [word_index[i] for i in wire.split(\" \")]\n",
    "def decode(wire):\n",
    "    return \" \".join(rev_index.get(i,\"?\") for i in wire)\n",
    "def vectorize(wires, dimensions=30982):\n",
    "    result = np.zeros((len(wires), dimensions))\n",
    "    for i,wire in enumerate(wires):\n",
    "        result[i,wire] = 1\n",
    "    return result"
   ]
  },
  {
   "cell_type": "code",
   "execution_count": 61,
   "metadata": {
    "Collapsed": "false"
   },
   "outputs": [],
   "source": [
    "c = code(\"3 dlr gain in investment\")"
   ]
  },
  {
   "cell_type": "code",
   "execution_count": 62,
   "metadata": {
    "Collapsed": "false"
   },
   "outputs": [
    {
     "data": {
      "text/plain": [
       "'3 dlr gain in investment'"
      ]
     },
     "execution_count": 62,
     "metadata": {},
     "output_type": "execute_result"
    }
   ],
   "source": [
    "decode(c)"
   ]
  },
  {
   "cell_type": "code",
   "execution_count": 63,
   "metadata": {
    "Collapsed": "false"
   },
   "outputs": [],
   "source": [
    "c = vectorize(c)"
   ]
  },
  {
   "cell_type": "code",
   "execution_count": 64,
   "metadata": {
    "Collapsed": "false"
   },
   "outputs": [
    {
     "data": {
      "text/plain": [
       "array([[0.02208912, 0.02369223, 0.02297539, 0.0248383 , 0.02525137,\n",
       "        0.02034193, 0.02195807, 0.01793808, 0.02111492, 0.02156462,\n",
       "        0.0208846 , 0.0226461 , 0.0174412 , 0.02188002, 0.02331607,\n",
       "        0.02318295, 0.02140911, 0.0224007 , 0.02318256, 0.02330979,\n",
       "        0.02120561, 0.01888176, 0.02234558, 0.02252125, 0.02226101,\n",
       "        0.02062644, 0.01973616, 0.02332967, 0.02222766, 0.02134015,\n",
       "        0.02258035, 0.02179268, 0.0242165 , 0.02147078, 0.02145653,\n",
       "        0.02129863, 0.01913824, 0.02212759, 0.02082765, 0.0216364 ,\n",
       "        0.02038372, 0.02233989, 0.02108962, 0.02110209, 0.0224071 ,\n",
       "        0.02023983],\n",
       "       [0.02118649, 0.02710332, 0.02537526, 0.03580952, 0.02753057,\n",
       "        0.02471345, 0.02439046, 0.02117772, 0.02116567, 0.02238174,\n",
       "        0.02149097, 0.02393672, 0.02013884, 0.02571972, 0.02229478,\n",
       "        0.02079312, 0.02375612, 0.02584139, 0.02089662, 0.02455678,\n",
       "        0.02681611, 0.01936081, 0.02283044, 0.02145604, 0.02661222,\n",
       "        0.02057469, 0.01249525, 0.02433482, 0.01905333, 0.01861386,\n",
       "        0.01480348, 0.0211861 , 0.01577518, 0.02162595, 0.01612698,\n",
       "        0.0136039 , 0.02363644, 0.02475969, 0.02062979, 0.02252698,\n",
       "        0.0243493 , 0.0202726 , 0.02237067, 0.0151471 , 0.01431841,\n",
       "        0.01646051],\n",
       "       [0.0264296 , 0.02443195, 0.02079027, 0.03979154, 0.02950398,\n",
       "        0.01524046, 0.02439248, 0.01615668, 0.03126813, 0.02698899,\n",
       "        0.02042675, 0.02435742, 0.01425316, 0.02430939, 0.02654099,\n",
       "        0.01602566, 0.02264782, 0.01525345, 0.02030187, 0.0255686 ,\n",
       "        0.02548118, 0.02049048, 0.02367006, 0.01491917, 0.02685169,\n",
       "        0.01834591, 0.01900687, 0.01739971, 0.01681715, 0.02158461,\n",
       "        0.02385441, 0.01406936, 0.01643946, 0.02274955, 0.02612747,\n",
       "        0.0160617 , 0.02259933, 0.02614602, 0.02496934, 0.01530787,\n",
       "        0.02029575, 0.02709942, 0.01597103, 0.02463658, 0.01716469,\n",
       "        0.017262  ],\n",
       "       [0.0227176 , 0.02462841, 0.02143058, 0.02622087, 0.0262994 ,\n",
       "        0.0217082 , 0.01966937, 0.02241106, 0.02133614, 0.02278261,\n",
       "        0.02054272, 0.02149606, 0.01798658, 0.02071678, 0.02349287,\n",
       "        0.02252653, 0.02121572, 0.0224137 , 0.02237319, 0.02556426,\n",
       "        0.02267637, 0.0183129 , 0.02151666, 0.02179637, 0.02151408,\n",
       "        0.0200769 , 0.01915122, 0.02317967, 0.0204765 , 0.02158308,\n",
       "        0.02118426, 0.02081107, 0.02288208, 0.0206829 , 0.0221609 ,\n",
       "        0.02130043, 0.02035979, 0.02255707, 0.02171421, 0.0231693 ,\n",
       "        0.02056365, 0.02148451, 0.02129135, 0.02139554, 0.01821083,\n",
       "        0.02241578],\n",
       "       [0.02373516, 0.01999167, 0.02090639, 0.0277891 , 0.02646984,\n",
       "        0.01461195, 0.02635997, 0.02914591, 0.02708525, 0.02510638,\n",
       "        0.01788623, 0.02617845, 0.02416982, 0.01956767, 0.01968648,\n",
       "        0.02257623, 0.02281705, 0.02251331, 0.02350314, 0.02735138,\n",
       "        0.02366623, 0.01955471, 0.0223984 , 0.01462197, 0.02058685,\n",
       "        0.0196458 , 0.01617773, 0.01599075, 0.01530243, 0.02461525,\n",
       "        0.02717629, 0.02075096, 0.02243591, 0.01490692, 0.02690716,\n",
       "        0.02450283, 0.02176206, 0.02494552, 0.01621083, 0.01500557,\n",
       "        0.02193155, 0.02202596, 0.01438198, 0.02834388, 0.01658086,\n",
       "        0.02212015]], dtype=float32)"
      ]
     },
     "execution_count": 64,
     "metadata": {},
     "output_type": "execute_result"
    }
   ],
   "source": [
    "model.predict(c)"
   ]
  },
  {
   "cell_type": "code",
   "execution_count": 66,
   "metadata": {
    "Collapsed": "false"
   },
   "outputs": [
    {
     "data": {
      "text/plain": [
       "0.02914591"
      ]
     },
     "execution_count": 66,
     "metadata": {},
     "output_type": "execute_result"
    }
   ],
   "source": [
    "max( [0.02373516, 0.01999167, 0.02090639, 0.0277891 , 0.02646984,\n",
    "        0.01461195, 0.02635997, 0.02914591, 0.02708525, 0.02510638,\n",
    "        0.01788623, 0.02617845, 0.02416982, 0.01956767, 0.01968648,\n",
    "        0.02257623, 0.02281705, 0.02251331, 0.02350314, 0.02735138,\n",
    "        0.02366623, 0.01955471, 0.0223984 , 0.01462197, 0.02058685,\n",
    "        0.0196458 , 0.01617773, 0.01599075, 0.01530243, 0.02461525,\n",
    "        0.02717629, 0.02075096, 0.02243591, 0.01490692, 0.02690716,\n",
    "        0.02450283, 0.02176206, 0.02494552, 0.01621083, 0.01500557,\n",
    "        0.02193155, 0.02202596, 0.01438198, 0.02834388, 0.01658086,\n",
    "        0.02212015])"
   ]
  },
  {
   "cell_type": "code",
   "execution_count": null,
   "metadata": {
    "Collapsed": "false"
   },
   "outputs": [],
   "source": []
  }
 ],
 "metadata": {
  "kernelspec": {
   "display_name": "Python 3",
   "language": "python",
   "name": "python3"
  },
  "language_info": {
   "codemirror_mode": {
    "name": "ipython",
    "version": 3
   },
   "file_extension": ".py",
   "mimetype": "text/x-python",
   "name": "python",
   "nbconvert_exporter": "python",
   "pygments_lexer": "ipython3",
   "version": "3.7.4"
  }
 },
 "nbformat": 4,
 "nbformat_minor": 4
}
