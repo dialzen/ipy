{
 "cells": [
  {
   "cell_type": "code",
   "execution_count": 1,
   "metadata": {
    "Collapsed": "false"
   },
   "outputs": [
    {
     "name": "stdout",
     "output_type": "stream",
     "text": [
      "WARNING: Insecure writes have been enabled via environment variable 'JUPYTER_ALLOW_INSECURE_WRITES'! If this is not intended, remove the variable or set its value to 'False'.\n",
      "Traceback (most recent call last):\n",
      "  File \"/mnt/c/users/haseeb/anaconda3/bin/jupyter-serverextension\", line 11, in <module>\n",
      "    sys.exit(main())\n",
      "  File \"/mnt/c/users/haseeb/anaconda3/lib/python3.7/site-packages/jupyter_core/application.py\", line 270, in launch_instance\n",
      "    return super(JupyterApp, cls).launch_instance(argv=argv, **kwargs)\n",
      "  File \"/mnt/c/users/haseeb/anaconda3/lib/python3.7/site-packages/traitlets/config/application.py\", line 664, in launch_instance\n",
      "    app.start()\n",
      "  File \"/mnt/c/users/haseeb/anaconda3/lib/python3.7/site-packages/notebook/serverextensions.py\", line 294, in start\n",
      "    super(ServerExtensionApp, self).start()\n",
      "  File \"/mnt/c/users/haseeb/anaconda3/lib/python3.7/site-packages/jupyter_core/application.py\", line 259, in start\n",
      "    self.subapp.start()\n",
      "  File \"/mnt/c/users/haseeb/anaconda3/lib/python3.7/site-packages/notebook/serverextensions.py\", line 211, in start\n",
      "    self.toggle_server_extension_python(arg)\n",
      "  File \"/mnt/c/users/haseeb/anaconda3/lib/python3.7/site-packages/notebook/serverextensions.py\", line 200, in toggle_server_extension_python\n",
      "    m, server_exts = _get_server_extension_metadata(package)\n",
      "  File \"/mnt/c/users/haseeb/anaconda3/lib/python3.7/site-packages/notebook/serverextensions.py\", line 328, in _get_server_extension_metadata\n",
      "    m = import_item(module)\n",
      "  File \"/mnt/c/users/haseeb/anaconda3/lib/python3.7/site-packages/traitlets/utils/importstring.py\", line 42, in import_item\n",
      "    return __import__(parts[0])\n",
      "ModuleNotFoundError: No module named 'jupyterlab_git'\n"
     ]
    }
   ],
   "source": [
    "!"
   ]
  },
  {
   "cell_type": "code",
   "execution_count": null,
   "metadata": {
    "Collapsed": "false"
   },
   "outputs": [],
   "source": []
  }
 ],
 "metadata": {
  "kernelspec": {
   "display_name": "Python 3",
   "language": "python",
   "name": "python3"
  },
  "language_info": {
   "codemirror_mode": {
    "name": "ipython",
    "version": 3
   },
   "file_extension": ".py",
   "mimetype": "text/x-python",
   "name": "python",
   "nbconvert_exporter": "python",
   "pygments_lexer": "ipython3",
   "version": "3.7.4"
  }
 },
 "nbformat": 4,
 "nbformat_minor": 4
}
