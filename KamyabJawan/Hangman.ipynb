{
 "cells": [
  {
   "cell_type": "code",
   "execution_count": 6,
   "metadata": {
    "Collapsed": "false"
   },
   "outputs": [],
   "source": [
    "answer = \"print\""
   ]
  },
  {
   "cell_type": "code",
   "execution_count": null,
   "metadata": {
    "Collapsed": "false"
   },
   "outputs": [],
   "source": [
    "lives = 7\n",
    "answer = answer.lower()\n",
    "guessed = \"_____\"\n",
    "print(guessed)\n",
    "already_used = []\n",
    "while(lives!=0):\n",
    "    input_letter = input(\"Enter a letter\").lower()[0]\n",
    "    if input_letter in already_used:\n",
    "        continue\n",
    "    already_used.append(input_letter)\n",
    "    if input_letter in answer:\n",
    "        answer.find(input_letter)"
   ]
  },
  {
   "cell_type": "code",
   "execution_count": null,
   "metadata": {
    "Collapsed": "false"
   },
   "outputs": [],
   "source": []
  }
 ],
 "metadata": {
  "kernelspec": {
   "display_name": "Python 3",
   "language": "python",
   "name": "python3"
  },
  "language_info": {
   "codemirror_mode": {
    "name": "ipython",
    "version": 3
   },
   "file_extension": ".py",
   "mimetype": "text/x-python",
   "name": "python",
   "nbconvert_exporter": "python",
   "pygments_lexer": "ipython3",
   "version": "3.7.4"
  }
 },
 "nbformat": 4,
 "nbformat_minor": 4
}
